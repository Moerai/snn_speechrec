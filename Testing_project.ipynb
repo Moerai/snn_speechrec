{
 "cells": [
  {
   "cell_type": "code",
   "execution_count": 1,
   "metadata": {},
   "outputs": [],
   "source": [
    "import librosa\n",
    "import numpy as np\n",
    "from scipy.signal import get_window\n",
    "import scipy.fftpack as fft\n",
    "import matplotlib.pyplot as plt\n",
    "\n",
    "import scipy.io\n",
    "from tqdm import tqdm\n"
   ]
  },
  {
   "cell_type": "code",
   "execution_count": 28,
   "metadata": {},
   "outputs": [],
   "source": [
    "def wav_to_list(wav_files):\n",
    "    audio_list = np.zeros(len(wav_files))\n",
    "    for ind,filename in enumerate(wav_files):\n",
    "        audio, sample_rate = librosa.load(filename)\n",
    "        audio_list[ind] = audio\n",
    "    return audio_list\n",
    "\n",
    "audio, sample_rate = librosa.load('sa1.wav')"
   ]
  },
  {
   "cell_type": "code",
   "execution_count": 29,
   "metadata": {},
   "outputs": [
    {
     "name": "stdout",
     "output_type": "stream",
     "text": [
      "[ 2.9922800e-05 -2.2494769e-05 -1.7128708e-06 ... -2.3044803e-04\n",
      " -2.0874187e-04  0.0000000e+00]\n",
      "22050\n",
      "64493\n"
     ]
    }
   ],
   "source": [
    "print(audio)\n",
    "print(sample_rate)\n",
    "print(len(audio))"
   ]
  },
  {
   "cell_type": "code",
   "execution_count": 16,
   "metadata": {},
   "outputs": [],
   "source": [
    "def all_mfsc(sound_list, s_rate_list, hop_size, timeframes, freq_bins):\n",
    "    n_sounds = len(sound_list)\n",
    "    all_results = n_sounds*[None]\n",
    "    for i in tqdm(range(n_sounds)):\n",
    "        all_results[i] = one_mfsc(sound_list[i],s_rate_list[i], hop_size, timeframes, freq_bins)\n",
    "    return all_results\n",
    "\n",
    "def one_mfsc(sound, s_rate, hop_size, timeframes, freq_bins):\n",
    "    sound = sound / np.max(np.abs(sound)) #First, we normalize\n",
    "    frames, fft_len = create_frames(sound, timeframes, s_rate, hop_size)\n",
    "    window = get_window(\"hann\", fft_len, fftbins=True)\n",
    "    windowed = frames * window\n",
    "    windowedT = windowed.T\n",
    "    fft_sound= np.empty((int(1 + fft_len // 2), windowedT.shape[1]), dtype=np.complex64, order='F')\n",
    "\n",
    "    for n in range(fft_sound.shape[1]):\n",
    "        fft_sound[:, n] = fft.fft(windowedT[:, n], axis=0)[:fft_sound.shape[0]]\n",
    "\n",
    "    fft_soundT = fft_sound.T\n",
    "    sound_strength = np.square(np.abs(fft_soundT))\n",
    "\n",
    "    lowf = 0\n",
    "    highf = s_rate / 2\n",
    "    \n",
    "    filt_places, m_freqs = get_filt_places(lowf, highf, freq_bins, fft_len, s_rate)\n",
    "    filters = make_filters(filt_places, fft_len)\n",
    "    \n",
    "    e_val = 2.0 / (m_freqs[2:freq_bins+2] - m_freqs[:freq_bins])\n",
    "    filters *= e_val[:, np.newaxis]\n",
    "    \n",
    "    sound_filt = np.dot(filters, np.transpose(sound_strength))\n",
    "    sound_log = 10.0 * np.log10(sound_filt)\n",
    "    \n",
    "    return sound_log\n",
    "\n",
    "def create_frames(sound, n_frames, s_rate, hop_size):\n",
    "    #frame_len = int(s_rate*hop_size/1000)\n",
    "    frame_len = int(len(sound)/(n_frames-1))\n",
    "    #FFT_size = -(n_frames-1)*frame_len+len(sound)\n",
    "    FFT_size = frame_len + (len(sound)/(n_frames-1))#This is the new calculated version\n",
    "    FFT_size = int(FFT_size/2)*2\n",
    "    sound = np.pad(sound, int(FFT_size / 2), mode='reflect')\n",
    "    frames = np.zeros((n_frames, FFT_size))\n",
    "    #print(40*frame_len+FFT_size)\n",
    "    #print(len(sound))\n",
    "    for n in range(n_frames):\n",
    "        #hahaha = \n",
    "        #print(len(hahaha))\n",
    "        #print(n*frame_len)\n",
    "        frames[n] = sound[n*frame_len:n*frame_len+FFT_size]\n",
    "        \n",
    "    return frames, FFT_size\n",
    "\n",
    "def f_mel(f): #Converts F to Mel\n",
    "    return 2595.0 * np.log10(1.0 + f / 700.0)\n",
    "\n",
    "def mel_f(mel): #Converts Mel to F\n",
    "    return 700.0 * (10.0**(mel / 2595.0) - 1.0)\n",
    "\n",
    "def get_filt_places(lowF, highF, n_samples, fft_len, s_rate):\n",
    "    lowf_mel = f_mel(lowF)\n",
    "    highf_mel = f_mel(highF)\n",
    "    \n",
    "    mel = np.linspace(lowf_mel, highf_mel, num=n_samples+2)\n",
    "    f = mel_f(mel)\n",
    "    \n",
    "    return np.floor((fft_len + 1) / s_rate * f).astype(int), f\n",
    "\n",
    "def make_filters(filt_places, fft_len):\n",
    "    filters = np.zeros((len(filt_places)-2,int(fft_len/2+1)))\n",
    "    \n",
    "    for n in range(len(filt_places)-2):\n",
    "        filters[n, filt_places[n] : filt_places[n + 1]] = np.linspace(0, 1, filt_places[n + 1] - filt_places[n])\n",
    "        filters[n, filt_places[n + 1] : filt_places[n + 2]] = np.linspace(1, 0, filt_places[n + 2] - filt_places[n + 1])\n",
    "    \n",
    "    return filters\n",
    "    \n",
    "    \n",
    "\n",
    "#result = one_mfsc(audio, sample_rate, 10)\n",
    "#print(result.shape)"
   ]
  },
  {
   "cell_type": "code",
   "execution_count": 23,
   "metadata": {},
   "outputs": [
    {
     "name": "stderr",
     "output_type": "stream",
     "text": [
      "2464it [01:39, 24.67it/s]\n",
      "  0%|▏                                                                                | 4/2464 [00:00<01:12, 33.88it/s]"
     ]
    },
    {
     "name": "stdout",
     "output_type": "stream",
     "text": [
      "18270\n",
      "18278\n",
      "18816\n",
      "18816\n",
      "16380\n",
      "16396\n",
      "17178\n",
      "17202\n",
      "17724\n",
      "17740\n",
      "19866\n",
      "19890\n",
      "18816\n",
      "18816\n",
      "18816\n",
      "18816\n",
      "20958\n",
      "20966\n",
      "22008"
     ]
    },
    {
     "name": "stderr",
     "output_type": "stream",
     "text": [
      "  1%|▍                                                                               | 13/2464 [00:00<01:10, 34.91it/s]"
     ]
    },
    {
     "name": "stdout",
     "output_type": "stream",
     "text": [
      "\n",
      "22040\n",
      "22302\n",
      "22310\n",
      "22554\n",
      "22578\n",
      "23898\n",
      "23922\n",
      "22008\n",
      "22040\n",
      "16926\n",
      "16934\n",
      "17724\n",
      "17740\n",
      "18522\n",
      "18546\n",
      "19320"
     ]
    },
    {
     "name": "stderr",
     "output_type": "stream",
     "text": [
      "  1%|▋                                                                               | 23/2464 [00:00<01:01, 39.50it/s]"
     ]
    },
    {
     "name": "stdout",
     "output_type": "stream",
     "text": [
      "\n",
      "19352\n",
      "19320\n",
      "19352\n",
      "17178\n",
      "17202\n",
      "19614\n",
      "19622\n",
      "19866\n",
      "19890\n",
      "13944\n",
      "13976\n",
      "13440\n",
      "13440\n",
      "15582\n",
      "15590\n",
      "13146\n",
      "13170\n",
      "15288"
     ]
    },
    {
     "name": "stderr",
     "output_type": "stream",
     "text": [
      "  1%|█▏                                                                              | 35/2464 [00:00<00:52, 46.60it/s]"
     ]
    },
    {
     "name": "stdout",
     "output_type": "stream",
     "text": [
      "\n",
      "15320\n",
      "13944\n",
      "13976\n",
      "16380\n",
      "16396\n",
      "14784\n",
      "14784\n",
      "19614\n",
      "19622\n",
      "17472\n",
      "17472\n",
      "19320\n",
      "19352\n",
      "18522\n",
      "18546\n",
      "16128\n",
      "16128\n",
      "17472\n",
      "17472\n",
      "14784"
     ]
    },
    {
     "name": "stderr",
     "output_type": "stream",
     "text": [
      "\r",
      "  2%|█▎                                                                              | 41/2464 [00:00<00:49, 48.90it/s]"
     ]
    },
    {
     "name": "stdout",
     "output_type": "stream",
     "text": [
      "\n",
      "14784\n",
      "14490\n",
      "14514\n",
      "18270\n",
      "18278\n",
      "17178\n",
      "17202\n",
      "15036\n",
      "15052\n",
      "17724\n",
      "17740\n",
      "17724\n",
      "17740\n",
      "18270\n",
      "18278\n",
      "20412\n",
      "20428\n",
      "21756\n",
      "21772\n",
      "19614\n",
      "19622\n"
     ]
    },
    {
     "name": "stderr",
     "output_type": "stream",
     "text": [
      "  2%|█▋                                                                              | 52/2464 [00:01<00:50, 47.34it/s]"
     ]
    },
    {
     "name": "stdout",
     "output_type": "stream",
     "text": [
      "17976\n",
      "18008\n",
      "19866\n",
      "19890\n",
      "20160\n",
      "20160\n",
      "22302\n",
      "22310\n",
      "20958\n",
      "20966\n",
      "22302\n",
      "22310\n",
      "32256\n",
      "32256\n",
      "26586\n",
      "26610\n",
      "24696"
     ]
    },
    {
     "name": "stderr",
     "output_type": "stream",
     "text": [
      "  3%|██                                                                              | 62/2464 [00:01<00:52, 45.98it/s]"
     ]
    },
    {
     "name": "stdout",
     "output_type": "stream",
     "text": [
      "\n",
      "24728\n",
      "23100\n",
      "23116\n",
      "23352\n",
      "23384\n",
      "23100\n",
      "23116\n",
      "19320\n",
      "19352\n",
      "20664\n",
      "20696\n",
      "23646\n",
      "23654\n",
      "20160\n",
      "20160\n",
      "19614\n",
      "19622\n",
      "22302"
     ]
    },
    {
     "name": "stderr",
     "output_type": "stream",
     "text": [
      "  3%|██▎                                                                             | 73/2464 [00:01<00:50, 47.40it/s]"
     ]
    },
    {
     "name": "stdout",
     "output_type": "stream",
     "text": [
      "\n",
      "22310\n",
      "23100\n",
      "23116\n",
      "21756\n",
      "21772\n",
      "20958\n",
      "20966\n",
      "19614\n",
      "19622\n",
      "19320\n",
      "19352\n",
      "20664\n",
      "20696\n",
      "21210\n",
      "21234\n",
      "19320\n",
      "19352\n",
      "20664\n"
     ]
    },
    {
     "name": "stderr",
     "output_type": "stream",
     "text": [
      "\r",
      "  3%|██▌                                                                             | 78/2464 [00:01<01:00, 39.37it/s]"
     ]
    },
    {
     "name": "stdout",
     "output_type": "stream",
     "text": [
      "20696\n",
      "26334\n",
      "26342\n",
      "20958\n",
      "20966\n",
      "27678\n",
      "27686\n",
      "23898\n",
      "23922\n",
      "21210\n",
      "21234\n",
      "20412\n"
     ]
    },
    {
     "name": "stderr",
     "output_type": "stream",
     "text": [
      "\r",
      "  3%|██▋                                                                             | 83/2464 [00:01<00:58, 40.55it/s]"
     ]
    },
    {
     "name": "stdout",
     "output_type": "stream",
     "text": [
      "20428\n",
      "23898\n",
      "23922\n",
      "20958\n",
      "20966\n",
      "20160\n",
      "20160\n",
      "22554\n",
      "22578\n",
      "15288\n",
      "15320\n",
      "20160\n",
      "20160\n",
      "23352\n",
      "23384\n",
      "18816\n",
      "18816\n",
      "18522\n",
      "18546\n",
      "19320"
     ]
    },
    {
     "name": "stderr",
     "output_type": "stream",
     "text": [
      "  4%|███                                                                             | 96/2464 [00:02<00:50, 47.10it/s]"
     ]
    },
    {
     "name": "stdout",
     "output_type": "stream",
     "text": [
      "\n",
      "19352\n",
      "18522\n",
      "18546\n",
      "16380\n",
      "16396\n",
      "24696\n",
      "24728\n",
      "19068\n",
      "19084\n",
      "17724\n",
      "17740\n",
      "20664\n",
      "20696\n",
      "17724\n",
      "17740\n",
      "20160\n",
      "20160\n",
      "23352\n",
      "23384\n",
      "22554"
     ]
    },
    {
     "name": "stderr",
     "output_type": "stream",
     "text": [
      "\r",
      "  4%|███▎                                                                           | 103/2464 [00:02<00:47, 50.21it/s]"
     ]
    },
    {
     "name": "stdout",
     "output_type": "stream",
     "text": [
      "\n",
      "22578\n",
      "20160\n",
      "20160\n",
      "18522\n",
      "18546\n",
      "21756\n",
      "21772\n",
      "15582\n",
      "15590\n",
      "17976\n",
      "18008\n",
      "19068\n",
      "19084\n",
      "19068\n",
      "19084\n",
      "23100\n",
      "23116\n",
      "19320\n",
      "19352\n",
      "19614\n",
      "19622\n"
     ]
    },
    {
     "name": "stderr",
     "output_type": "stream",
     "text": [
      "  5%|███▋                                                                           | 116/2464 [00:02<00:45, 51.81it/s]"
     ]
    },
    {
     "name": "stdout",
     "output_type": "stream",
     "text": [
      "24696\n",
      "24728\n",
      "20412\n",
      "20428\n",
      "18522\n",
      "18546\n",
      "20412\n",
      "20428\n",
      "25242\n",
      "25266\n",
      "19866\n",
      "19890\n",
      "23898\n",
      "23922\n",
      "21756\n",
      "21772\n",
      "17724\n",
      "17740\n",
      "16926\n",
      "16934\n",
      "29568"
     ]
    },
    {
     "name": "stderr",
     "output_type": "stream",
     "text": [
      "  5%|████                                                                           | 128/2464 [00:02<00:45, 50.91it/s]"
     ]
    },
    {
     "name": "stdout",
     "output_type": "stream",
     "text": [
      "\n",
      "29568\n",
      "23100\n",
      "23116\n",
      "27132\n",
      "27148\n",
      "21210\n",
      "21234\n",
      "16128\n",
      "16128\n",
      "15288\n",
      "15320\n",
      "26040\n",
      "26072\n",
      "20958\n",
      "20966\n",
      "17724\n",
      "17740\n",
      "17724"
     ]
    },
    {
     "name": "stderr",
     "output_type": "stream",
     "text": [
      "\r",
      "  5%|████▎                                                                          | 134/2464 [00:02<00:48, 48.33it/s]"
     ]
    },
    {
     "name": "stdout",
     "output_type": "stream",
     "text": [
      "\n",
      "17740\n",
      "25242\n",
      "25266\n",
      "20412\n",
      "20428\n",
      "16380\n",
      "16396\n",
      "16926\n",
      "16934\n",
      "19614\n",
      "19622\n",
      "15582\n",
      "15590\n",
      "21756\n",
      "21772\n",
      "20160\n",
      "20160\n",
      "16926\n",
      "16934\n",
      "19614"
     ]
    },
    {
     "name": "stderr",
     "output_type": "stream",
     "text": [
      "  6%|████▋                                                                          | 146/2464 [00:03<00:43, 53.46it/s]"
     ]
    },
    {
     "name": "stdout",
     "output_type": "stream",
     "text": [
      "\n",
      "19622\n",
      "19068\n",
      "19084\n",
      "21210\n",
      "21234\n",
      "20958\n",
      "20966\n",
      "20412\n",
      "20428\n",
      "17976\n",
      "18008\n",
      "20412\n",
      "20428\n",
      "19320\n",
      "19352\n",
      "16926\n",
      "16934\n",
      "22008\n",
      "22040\n",
      "21504\n",
      "21504\n",
      "16380\n",
      "16396\n"
     ]
    },
    {
     "name": "stderr",
     "output_type": "stream",
     "text": [
      "  6%|█████                                                                          | 159/2464 [00:03<00:41, 55.27it/s]"
     ]
    },
    {
     "name": "stdout",
     "output_type": "stream",
     "text": [
      "20664\n",
      "20696\n",
      "17724\n",
      "17740\n",
      "19866\n",
      "19890\n",
      "17976\n",
      "18008\n",
      "18270\n",
      "18278\n",
      "15036\n",
      "15052\n",
      "18270\n",
      "18278\n",
      "16632\n",
      "16664\n",
      "18522\n",
      "18546\n",
      "20160\n",
      "20160\n",
      "20412"
     ]
    },
    {
     "name": "stderr",
     "output_type": "stream",
     "text": [
      "  7%|█████▌                                                                         | 173/2464 [00:03<00:39, 58.47it/s]"
     ]
    },
    {
     "name": "stdout",
     "output_type": "stream",
     "text": [
      "\n",
      "20428\n",
      "20412\n",
      "20428\n",
      "21504\n",
      "21504\n",
      "20958\n",
      "20966\n",
      "20160\n",
      "20160\n",
      "21504\n",
      "21504\n",
      "19068\n",
      "19084\n",
      "17472\n",
      "17472\n",
      "16380\n",
      "16396\n",
      "18522\n",
      "18546\n",
      "18522\n",
      "18546\n",
      "17472\n",
      "17472\n"
     ]
    },
    {
     "name": "stderr",
     "output_type": "stream",
     "text": [
      "\r",
      "  7%|█████▊                                                                         | 180/2464 [00:03<00:39, 58.49it/s]"
     ]
    },
    {
     "name": "stdout",
     "output_type": "stream",
     "text": [
      "17472\n",
      "17472\n",
      "19614\n",
      "19622\n",
      "21756\n",
      "21772\n",
      "17724\n",
      "17740\n",
      "18522\n",
      "18546\n",
      "17976\n",
      "18008\n",
      "16926\n",
      "16934\n",
      "18816\n",
      "18816\n",
      "21504\n",
      "21504\n",
      "17724\n",
      "17740\n",
      "19614\n",
      "19622\n",
      "20958"
     ]
    },
    {
     "name": "stderr",
     "output_type": "stream",
     "text": [
      "  8%|██████▏                                                                        | 194/2464 [00:03<00:37, 60.96it/s]"
     ]
    },
    {
     "name": "stdout",
     "output_type": "stream",
     "text": [
      "\n",
      "20966\n",
      "18522\n",
      "18546\n",
      "25536\n",
      "25536\n",
      "24192\n",
      "24192\n",
      "20664\n",
      "20696\n",
      "20412\n",
      "20428\n",
      "16632\n",
      "16664\n",
      "16926\n",
      "16934\n",
      "18522\n",
      "18546\n",
      "19320\n",
      "19352\n",
      "16380\n",
      "16396\n",
      "16632\n",
      "16664\n",
      "20160"
     ]
    },
    {
     "name": "stderr",
     "output_type": "stream",
     "text": [
      "\r",
      "  8%|██████▍                                                                        | 201/2464 [00:03<00:37, 60.82it/s]"
     ]
    },
    {
     "name": "stdout",
     "output_type": "stream",
     "text": [
      "\n",
      "20160\n",
      "18522\n",
      "18546\n",
      "23100\n",
      "23116\n",
      "24444\n",
      "24460\n",
      "23100\n",
      "23116\n",
      "18522\n",
      "18546\n",
      "20664\n",
      "20696\n",
      "20160\n",
      "20160\n",
      "21756\n",
      "21772\n",
      "24192\n",
      "24192\n",
      "25242\n",
      "25266\n"
     ]
    },
    {
     "name": "stderr",
     "output_type": "stream",
     "text": [
      "  9%|██████▊                                                                        | 214/2464 [00:04<00:43, 52.32it/s]"
     ]
    },
    {
     "name": "stdout",
     "output_type": "stream",
     "text": [
      "22848\n",
      "22848\n",
      "28476\n",
      "28492\n",
      "25242\n",
      "25266\n",
      "22302\n",
      "22310\n",
      "22008\n",
      "22040\n",
      "21756\n",
      "21772\n",
      "19866\n",
      "19890\n",
      "23100\n",
      "23116\n",
      "25536\n",
      "25536\n",
      "17976"
     ]
    },
    {
     "name": "stderr",
     "output_type": "stream",
     "text": [
      "  9%|███████▏                                                                       | 226/2464 [00:04<00:40, 54.94it/s]"
     ]
    },
    {
     "name": "stdout",
     "output_type": "stream",
     "text": [
      "\n",
      "18008\n",
      "17472\n",
      "17472\n",
      "22554\n",
      "22578\n",
      "22008\n",
      "22040\n",
      "20958\n",
      "20966\n",
      "19866\n",
      "19890\n",
      "15582\n",
      "15590\n",
      "15288\n",
      "15320\n",
      "16632\n",
      "16664\n",
      "19320\n",
      "19352\n",
      "24444\n",
      "24460\n",
      "18270"
     ]
    },
    {
     "name": "stderr",
     "output_type": "stream",
     "text": [
      "\r",
      "  9%|███████▍                                                                       | 232/2464 [00:04<00:45, 48.92it/s]"
     ]
    },
    {
     "name": "stdout",
     "output_type": "stream",
     "text": [
      "\n",
      "18278\n",
      "21756\n",
      "21772\n",
      "19614\n",
      "19622\n",
      "27678\n",
      "27686\n",
      "21756\n",
      "21772\n",
      "20160\n",
      "20160\n",
      "18816\n",
      "18816\n",
      "18522\n",
      "18546\n",
      "21756\n",
      "21772\n",
      "19320"
     ]
    },
    {
     "name": "stderr",
     "output_type": "stream",
     "text": [
      " 10%|███████▊                                                                       | 244/2464 [00:04<00:42, 51.76it/s]"
     ]
    },
    {
     "name": "stdout",
     "output_type": "stream",
     "text": [
      "\n",
      "19352\n",
      "19614\n",
      "19622\n",
      "15834\n",
      "15858\n",
      "26040\n",
      "26072\n",
      "22008\n",
      "22040\n",
      "19614\n",
      "19622\n",
      "24990\n",
      "24998\n",
      "21210\n",
      "21234\n",
      "16632\n",
      "16664\n",
      "16926\n",
      "16934\n",
      "17724"
     ]
    },
    {
     "name": "stderr",
     "output_type": "stream",
     "text": [
      "\r",
      " 10%|████████                                                                       | 251/2464 [00:04<00:40, 54.48it/s]"
     ]
    },
    {
     "name": "stdout",
     "output_type": "stream",
     "text": [
      "\n",
      "17740\n",
      "18522\n",
      "18546\n",
      "16926\n",
      "16934\n",
      "17724\n",
      "17740\n",
      "17178\n",
      "17202\n",
      "17178\n",
      "17202\n",
      "22302\n",
      "22310\n",
      "20160\n",
      "20160\n",
      "19614\n",
      "19622\n",
      "20160\n",
      "20160\n",
      "17724\n",
      "17740\n",
      "14490"
     ]
    },
    {
     "name": "stderr",
     "output_type": "stream",
     "text": [
      " 11%|████████▍                                                                      | 264/2464 [00:05<00:39, 56.34it/s]"
     ]
    },
    {
     "name": "stdout",
     "output_type": "stream",
     "text": [
      "\n",
      "14514\n",
      "18270\n",
      "18278\n",
      "19068\n",
      "19084\n",
      "16926\n",
      "16934\n",
      "19068\n",
      "19084\n",
      "20412\n",
      "20428\n",
      "19614\n",
      "19622\n",
      "20664\n",
      "20696\n",
      "22008\n",
      "22040\n",
      "16632\n",
      "16664\n",
      "23898"
     ]
    },
    {
     "name": "stderr",
     "output_type": "stream",
     "text": [
      "\r",
      " 11%|████████▋                                                                      | 270/2464 [00:05<00:46, 47.07it/s]"
     ]
    },
    {
     "name": "stdout",
     "output_type": "stream",
     "text": [
      "\n",
      "23922\n",
      "20958\n",
      "20966\n",
      "24990\n",
      "24998\n",
      "24990\n",
      "24998\n",
      "19614\n",
      "19622\n",
      "29820\n",
      "29836\n",
      "27132\n",
      "27148\n",
      "30366\n"
     ]
    },
    {
     "name": "stderr",
     "output_type": "stream",
     "text": [
      " 11%|█████████                                                                      | 281/2464 [00:05<00:47, 46.37it/s]"
     ]
    },
    {
     "name": "stdout",
     "output_type": "stream",
     "text": [
      "30374\n",
      "24444\n",
      "24460\n",
      "25788\n",
      "25804\n",
      "25242\n",
      "25266\n",
      "20664\n",
      "20696\n",
      "17472\n",
      "17472\n",
      "18816\n",
      "18816\n",
      "23352\n",
      "23384\n",
      "25788"
     ]
    },
    {
     "name": "stderr",
     "output_type": "stream",
     "text": [
      "\r",
      " 12%|█████████▏                                                                     | 287/2464 [00:05<00:44, 49.20it/s]"
     ]
    },
    {
     "name": "stdout",
     "output_type": "stream",
     "text": [
      "\n",
      "25804\n",
      "16128\n",
      "16128\n",
      "20664\n",
      "20696\n",
      "20160\n",
      "20160\n",
      "21210\n",
      "21234\n",
      "21756\n",
      "21772\n",
      "37338\n",
      "37362\n",
      "35994\n",
      "36018\n"
     ]
    },
    {
     "name": "stderr",
     "output_type": "stream",
     "text": [
      "\r",
      " 12%|█████████▍                                                                     | 293/2464 [00:05<00:50, 42.94it/s]"
     ]
    },
    {
     "name": "stdout",
     "output_type": "stream",
     "text": [
      "15834\n",
      "15858\n",
      "16632\n",
      "16664\n",
      "23100\n",
      "23116\n",
      "30072\n",
      "30104\n",
      "27678\n",
      "27686\n",
      "22848\n",
      "22848\n",
      "24696\n",
      "24728\n",
      "24696\n",
      "24728\n"
     ]
    },
    {
     "name": "stderr",
     "output_type": "stream",
     "text": [
      " 12%|█████████▊                                                                     | 305/2464 [00:06<00:48, 44.70it/s]"
     ]
    },
    {
     "name": "stdout",
     "output_type": "stream",
     "text": [
      "22554\n",
      "22578\n",
      "32256\n",
      "32256\n",
      "20160\n",
      "20160\n",
      "17724\n",
      "17740\n",
      "18270\n",
      "18278\n",
      "20412\n",
      "20428\n",
      "21504\n",
      "21504\n",
      "20958\n",
      "20966\n",
      "23646\n",
      "23654\n"
     ]
    },
    {
     "name": "stderr",
     "output_type": "stream",
     "text": [
      " 13%|██████████▏                                                                    | 317/2464 [00:06<00:44, 48.52it/s]"
     ]
    },
    {
     "name": "stdout",
     "output_type": "stream",
     "text": [
      "24192\n",
      "24192\n",
      "23100\n",
      "23116\n",
      "17472\n",
      "17472\n",
      "16926\n",
      "16934\n",
      "15288\n",
      "15320\n",
      "19068\n",
      "19084\n",
      "16632\n",
      "16664\n",
      "17724\n",
      "17740\n",
      "16926\n",
      "16934\n",
      "19068\n",
      "19084\n",
      "18816\n",
      "18816\n",
      "20958\n",
      "20966\n",
      "20160"
     ]
    },
    {
     "name": "stderr",
     "output_type": "stream",
     "text": [
      " 13%|██████████▋                                                                    | 332/2464 [00:06<00:37, 57.19it/s]"
     ]
    },
    {
     "name": "stdout",
     "output_type": "stream",
     "text": [
      "\n",
      "20160\n",
      "17178\n",
      "17202\n",
      "16926\n",
      "16934\n",
      "16926\n",
      "16934\n",
      "16926\n",
      "16934\n",
      "19320\n",
      "19352\n",
      "19320\n",
      "19352\n",
      "15288\n",
      "15320\n",
      "15582\n",
      "15590\n",
      "21210\n",
      "21234\n",
      "16926\n",
      "16934\n",
      "18522\n",
      "18546\n",
      "21756\n",
      "21772\n",
      "21210\n",
      "21234\n",
      "19866"
     ]
    },
    {
     "name": "stderr",
     "output_type": "stream",
     "text": [
      "\r",
      " 14%|██████████▊                                                                    | 339/2464 [00:06<00:35, 59.30it/s]"
     ]
    },
    {
     "name": "stdout",
     "output_type": "stream",
     "text": [
      "\n",
      "19890\n",
      "21504\n",
      "21504\n",
      "23100\n",
      "23116\n",
      "25242\n",
      "25266\n",
      "19068\n",
      "19084\n",
      "18816\n",
      "18816\n",
      "25536\n",
      "25536\n",
      "24192\n",
      "24192\n",
      "26334\n",
      "26342\n",
      "20958\n",
      "20966\n",
      "24696\n",
      "24728\n",
      "21504\n",
      "21504\n",
      "20412"
     ]
    },
    {
     "name": "stderr",
     "output_type": "stream",
     "text": [
      " 14%|███████████▎                                                                   | 353/2464 [00:06<00:33, 62.48it/s]"
     ]
    },
    {
     "name": "stdout",
     "output_type": "stream",
     "text": [
      "\n",
      "20428\n",
      "21504\n",
      "21504\n",
      "20160\n",
      "20160\n",
      "19320\n",
      "19352\n",
      "24192\n",
      "24192\n",
      "24192\n",
      "24192\n",
      "28476\n",
      "28492\n",
      "20958\n",
      "20966\n",
      "17178\n",
      "17202\n",
      "15834\n",
      "15858\n",
      "15582\n",
      "15590\n",
      "20664\n",
      "20696\n",
      "22008"
     ]
    },
    {
     "name": "stderr",
     "output_type": "stream",
     "text": [
      " 15%|███████████▊                                                                   | 367/2464 [00:07<00:35, 58.54it/s]"
     ]
    },
    {
     "name": "stdout",
     "output_type": "stream",
     "text": [
      "\n",
      "22040\n",
      "16926\n",
      "16934\n",
      "21756\n",
      "21772\n",
      "22848\n",
      "22848\n",
      "22848\n",
      "22848\n",
      "24696\n",
      "24728\n",
      "23100\n",
      "23116\n",
      "20958\n",
      "20966\n",
      "23898\n",
      "23922\n",
      "20160\n",
      "20160\n",
      "14784\n",
      "14784\n"
     ]
    },
    {
     "name": "stderr",
     "output_type": "stream",
     "text": [
      "\r",
      " 15%|███████████▉                                                                   | 373/2464 [00:07<00:39, 53.50it/s]"
     ]
    },
    {
     "name": "stdout",
     "output_type": "stream",
     "text": [
      "24192\n",
      "24192\n",
      "19614\n",
      "19622\n",
      "19614\n",
      "19622\n",
      "21504\n",
      "21504\n",
      "19320\n",
      "19352\n",
      "27132\n",
      "27148\n",
      "20958\n",
      "20966\n",
      "20958\n",
      "20966\n",
      "20412"
     ]
    },
    {
     "name": "stderr",
     "output_type": "stream",
     "text": [
      " 16%|████████████▍                                                                  | 386/2464 [00:07<00:37, 54.84it/s]"
     ]
    },
    {
     "name": "stdout",
     "output_type": "stream",
     "text": [
      "\n",
      "20428\n",
      "22554\n",
      "22578\n",
      "21210\n",
      "21234\n",
      "22302\n",
      "22310\n",
      "24696\n",
      "24728\n",
      "23352\n",
      "23384\n",
      "25788\n",
      "25804\n",
      "27132\n",
      "27148\n",
      "26586\n",
      "26610\n",
      "27132\n",
      "27148\n",
      "21756\n",
      "21772\n",
      "26040\n",
      "26072\n",
      "15582"
     ]
    },
    {
     "name": "stderr",
     "output_type": "stream",
     "text": [
      "\r",
      " 16%|████████████▌                                                                  | 393/2464 [00:07<00:35, 58.36it/s]"
     ]
    },
    {
     "name": "stdout",
     "output_type": "stream",
     "text": [
      "\n",
      "15590\n",
      "19320\n",
      "19352\n",
      "26334\n",
      "26342\n",
      "24192\n",
      "24192\n",
      "17976\n",
      "18008\n",
      "18816\n",
      "18816\n",
      "21504\n",
      "21504\n",
      "23646\n",
      "23654\n",
      "16926\n",
      "16934\n",
      "19614\n",
      "19622\n",
      "17724\n"
     ]
    },
    {
     "name": "stderr",
     "output_type": "stream",
     "text": [
      " 16%|█████████████                                                                  | 406/2464 [00:07<00:36, 56.31it/s]"
     ]
    },
    {
     "name": "stdout",
     "output_type": "stream",
     "text": [
      "17740\n",
      "17724\n",
      "17740\n",
      "18522\n",
      "18546\n",
      "19320\n",
      "19352\n",
      "21756\n",
      "21772\n",
      "20958\n",
      "20966\n",
      "19068\n",
      "19084\n",
      "17724\n",
      "17740\n",
      "22554\n",
      "22578\n",
      "24444\n",
      "24460\n",
      "18816\n",
      "18816\n",
      "21504\n",
      "21504\n",
      "19866\n",
      "19890\n",
      "19320"
     ]
    },
    {
     "name": "stderr",
     "output_type": "stream",
     "text": [
      " 17%|█████████████▍                                                                 | 421/2464 [00:08<00:32, 62.42it/s]"
     ]
    },
    {
     "name": "stdout",
     "output_type": "stream",
     "text": [
      "\n",
      "19352\n",
      "18270\n",
      "18278\n",
      "17472\n",
      "17472\n",
      "15582\n",
      "15590\n",
      "17178\n",
      "17202\n",
      "20664\n",
      "20696\n",
      "19614\n",
      "19622\n",
      "24696\n",
      "24728\n",
      "24696\n",
      "24728\n",
      "18270\n",
      "18278\n",
      "19068\n",
      "19084\n",
      "21504\n",
      "21504\n",
      "16926\n",
      "16934\n",
      "21756"
     ]
    },
    {
     "name": "stderr",
     "output_type": "stream",
     "text": [
      "\r",
      " 17%|█████████████▋                                                                 | 428/2464 [00:08<00:34, 59.50it/s]"
     ]
    },
    {
     "name": "stdout",
     "output_type": "stream",
     "text": [
      "\n",
      "21772\n",
      "25242\n",
      "25266\n",
      "22848\n",
      "22848\n",
      "18522\n",
      "18546\n",
      "20958\n",
      "20966\n",
      "22008\n",
      "22040\n",
      "17976\n",
      "18008\n",
      "19068\n",
      "19084\n",
      "21756\n",
      "21772\n",
      "17178"
     ]
    },
    {
     "name": "stderr",
     "output_type": "stream",
     "text": [
      " 18%|██████████████▏                                                                | 441/2464 [00:08<00:36, 55.85it/s]"
     ]
    },
    {
     "name": "stdout",
     "output_type": "stream",
     "text": [
      "\n",
      "17202\n",
      "18522\n",
      "18546\n",
      "23646\n",
      "23654\n",
      "19614\n",
      "19622\n",
      "17976\n",
      "18008\n",
      "22554\n",
      "22578\n",
      "22008\n",
      "22040\n",
      "18270\n",
      "18278\n",
      "15834\n",
      "15858\n",
      "15288\n",
      "15320\n",
      "16380\n",
      "16396\n",
      "15582"
     ]
    },
    {
     "name": "stderr",
     "output_type": "stream",
     "text": [
      "\r",
      " 18%|██████████████▎                                                                | 448/2464 [00:08<00:34, 58.84it/s]"
     ]
    },
    {
     "name": "stdout",
     "output_type": "stream",
     "text": [
      "\n",
      "15590\n",
      "19866\n",
      "19890\n",
      "20958\n",
      "20966\n",
      "16926\n",
      "16934\n",
      "21210\n",
      "21234\n",
      "19614\n",
      "19622\n",
      "23646\n",
      "23654\n",
      "24990\n",
      "24998\n",
      "17976\n",
      "18008\n",
      "26880\n",
      "26880\n"
     ]
    },
    {
     "name": "stderr",
     "output_type": "stream",
     "text": [
      " 19%|██████████████▊                                                                | 463/2464 [00:08<00:31, 62.57it/s]"
     ]
    },
    {
     "name": "stdout",
     "output_type": "stream",
     "text": [
      "17472\n",
      "17472\n",
      "20412\n",
      "20428\n",
      "16128\n",
      "16128\n",
      "15834\n",
      "15858\n",
      "18522\n",
      "18546\n",
      "15582\n",
      "15590\n",
      "18816\n",
      "18816\n",
      "17976\n",
      "18008\n",
      "21504\n",
      "21504\n",
      "22008\n",
      "22040\n",
      "21504\n",
      "21504\n",
      "21210\n",
      "21234\n",
      "21504\n",
      "21504\n",
      "21210\n",
      "21234\n",
      "21210\n",
      "21234\n",
      "22554\n",
      "22578\n",
      "27132"
     ]
    },
    {
     "name": "stderr",
     "output_type": "stream",
     "text": [
      " 19%|███████████████▎                                                               | 479/2464 [00:08<00:29, 66.46it/s]"
     ]
    },
    {
     "name": "stdout",
     "output_type": "stream",
     "text": [
      "\n",
      "27148\n",
      "22008\n",
      "22040\n",
      "24444\n",
      "24460\n",
      "24990\n",
      "24998\n",
      "22554\n",
      "22578\n",
      "22008\n",
      "22040\n",
      "15834\n",
      "15858\n",
      "19068\n",
      "19084\n",
      "22302\n",
      "22310\n",
      "22554\n",
      "22578\n",
      "21210\n",
      "21234\n",
      "18522"
     ]
    },
    {
     "name": "stderr",
     "output_type": "stream",
     "text": [
      "\r",
      " 20%|███████████████▌                                                               | 486/2464 [00:09<00:31, 62.11it/s]"
     ]
    },
    {
     "name": "stdout",
     "output_type": "stream",
     "text": [
      "\n",
      "18546\n",
      "24990\n",
      "24998\n",
      "21210\n",
      "21234\n",
      "19866\n",
      "19890\n",
      "16632\n",
      "16664\n",
      "20412\n",
      "20428\n",
      "19614\n",
      "19622\n",
      "23646\n",
      "23654\n",
      "17472\n",
      "17472\n",
      "20958\n",
      "20966\n",
      "17724"
     ]
    },
    {
     "name": "stderr",
     "output_type": "stream",
     "text": [
      " 20%|███████████████▉                                                               | 499/2464 [00:09<00:34, 56.91it/s]"
     ]
    },
    {
     "name": "stdout",
     "output_type": "stream",
     "text": [
      "\n",
      "17740\n",
      "26040\n",
      "26072\n",
      "19320\n",
      "19352\n",
      "23646\n",
      "23654\n",
      "23898\n",
      "23922\n",
      "18522\n",
      "18546\n",
      "18816\n",
      "18816\n",
      "17724\n",
      "17740\n",
      "16632\n",
      "16664\n",
      "22554\n",
      "22578\n",
      "19068\n",
      "19084\n",
      "21210\n",
      "21234"
     ]
    },
    {
     "name": "stderr",
     "output_type": "stream",
     "text": [
      " 21%|████████████████▍                                                              | 513/2464 [00:09<00:32, 60.54it/s]"
     ]
    },
    {
     "name": "stdout",
     "output_type": "stream",
     "text": [
      "\n",
      "19320\n",
      "19352\n",
      "24192\n",
      "24192\n",
      "19614\n",
      "19622\n",
      "16380\n",
      "16396\n",
      "15834\n",
      "15858\n",
      "14238\n",
      "14246\n",
      "13440\n",
      "13440\n",
      "18816\n",
      "18816\n",
      "14490\n",
      "14514\n",
      "12894\n",
      "12902\n",
      "13944\n",
      "13976\n",
      "16380\n",
      "16396\n",
      "15288"
     ]
    },
    {
     "name": "stderr",
     "output_type": "stream",
     "text": [
      "\r",
      " 21%|████████████████▋                                                              | 522/2464 [00:09<00:29, 66.28it/s]"
     ]
    },
    {
     "name": "stdout",
     "output_type": "stream",
     "text": [
      "\n",
      "15320\n",
      "20664\n",
      "20696\n",
      "22848\n",
      "22848\n",
      "17976\n",
      "18008\n",
      "16380\n",
      "16396\n",
      "15582\n",
      "15590\n",
      "12348\n",
      "12364\n",
      "15288\n",
      "15320\n",
      "14238\n",
      "14246\n",
      "13692\n",
      "13708\n",
      "12894\n",
      "12902\n",
      "19068\n",
      "19084\n",
      "17724\n",
      "17740\n",
      "17472\n",
      "17472\n",
      "18816\n",
      "18816\n"
     ]
    },
    {
     "name": "stderr",
     "output_type": "stream",
     "text": [
      " 22%|█████████████████▏                                                             | 538/2464 [00:09<00:28, 66.75it/s]"
     ]
    },
    {
     "name": "stdout",
     "output_type": "stream",
     "text": [
      "17724\n",
      "17740\n",
      "15582\n",
      "15590\n",
      "16128\n",
      "16128\n",
      "18522\n",
      "18546\n",
      "19614\n",
      "19622\n",
      "18270\n",
      "18278\n",
      "23646\n",
      "23654\n",
      "18816\n",
      "18816\n",
      "20160\n",
      "20160\n",
      "23352\n",
      "23384\n",
      "17976\n",
      "18008\n",
      "24444\n",
      "24460\n",
      "20664"
     ]
    },
    {
     "name": "stderr",
     "output_type": "stream",
     "text": [
      " 22%|█████████████████▋                                                             | 553/2464 [00:10<00:28, 67.43it/s]"
     ]
    },
    {
     "name": "stdout",
     "output_type": "stream",
     "text": [
      "\n",
      "20696\n",
      "18816\n",
      "18816\n",
      "16128\n",
      "16128\n",
      "17178\n",
      "17202\n",
      "18522\n",
      "18546\n",
      "17472\n",
      "17472\n",
      "17724\n",
      "17740\n",
      "19068\n",
      "19084\n",
      "24192\n",
      "24192\n",
      "20664\n",
      "20696\n",
      "21210\n",
      "21234\n",
      "17472\n",
      "17472\n",
      "17724\n",
      "17740\n",
      "17724\n",
      "17740\n"
     ]
    },
    {
     "name": "stderr",
     "output_type": "stream",
     "text": [
      "\r",
      " 23%|█████████████████▉                                                             | 560/2464 [00:10<00:30, 62.76it/s]"
     ]
    },
    {
     "name": "stdout",
     "output_type": "stream",
     "text": [
      "23898\n",
      "23922\n",
      "21210\n",
      "21234\n",
      "19320\n",
      "19352\n",
      "26586\n",
      "26610\n",
      "23100\n",
      "23116\n",
      "26040\n",
      "26072\n",
      "22554\n",
      "22578\n",
      "23352\n",
      "23384\n",
      "18522\n",
      "18546\n",
      "17472\n",
      "17472\n",
      "22848\n",
      "22848\n",
      "19320"
     ]
    },
    {
     "name": "stderr",
     "output_type": "stream",
     "text": [
      " 23%|██████████████████▍                                                            | 575/2464 [00:10<00:30, 61.79it/s]"
     ]
    },
    {
     "name": "stdout",
     "output_type": "stream",
     "text": [
      "\n",
      "19352\n",
      "21210\n",
      "21234\n",
      "20664\n",
      "20696\n",
      "27384\n",
      "27416\n",
      "25788\n",
      "25804\n",
      "25536\n",
      "25536\n",
      "17976\n",
      "18008\n",
      "17178\n",
      "17202\n",
      "19320\n",
      "19352\n",
      "22554\n",
      "22578\n",
      "18270\n",
      "18278\n",
      "19320\n",
      "19352\n",
      "20958"
     ]
    },
    {
     "name": "stderr",
     "output_type": "stream",
     "text": [
      "\r",
      " 24%|██████████████████▋                                                            | 582/2464 [00:10<00:32, 58.36it/s]"
     ]
    },
    {
     "name": "stdout",
     "output_type": "stream",
     "text": [
      "\n",
      "20966\n",
      "20160\n",
      "20160\n",
      "25242\n",
      "25266\n",
      "19614\n",
      "19622\n",
      "20664\n",
      "20696\n",
      "21504\n",
      "21504\n",
      "18522\n",
      "18546\n",
      "21504\n",
      "21504\n",
      "21210\n",
      "21234\n",
      "19866"
     ]
    },
    {
     "name": "stderr",
     "output_type": "stream",
     "text": [
      " 24%|███████████████████                                                            | 596/2464 [00:10<00:30, 61.07it/s]"
     ]
    },
    {
     "name": "stdout",
     "output_type": "stream",
     "text": [
      "\n",
      "19890\n",
      "26880\n",
      "26880\n",
      "15288\n",
      "15320\n",
      "22008\n",
      "22040\n",
      "26586\n",
      "26610\n",
      "23352\n",
      "23384\n",
      "19866\n",
      "19890\n",
      "16380\n",
      "16396\n",
      "15582\n",
      "15590\n",
      "15582\n",
      "15590\n",
      "23100\n",
      "23116\n",
      "17178\n",
      "17202\n",
      "24696"
     ]
    },
    {
     "name": "stderr",
     "output_type": "stream",
     "text": [
      " 25%|███████████████████▋                                                           | 613/2464 [00:11<00:27, 68.50it/s]"
     ]
    },
    {
     "name": "stdout",
     "output_type": "stream",
     "text": [
      "\n",
      "24728\n",
      "17472\n",
      "17472\n",
      "23352\n",
      "23384\n",
      "18816\n",
      "18816\n",
      "23100\n",
      "23116\n",
      "24990\n",
      "24998\n",
      "21756\n",
      "21772\n",
      "18270\n",
      "18278\n",
      "21504\n",
      "21504\n",
      "19068\n",
      "19084\n",
      "17472\n",
      "17472\n",
      "20160\n",
      "20160\n",
      "18816\n",
      "18816\n",
      "19866\n",
      "19890\n",
      "18270\n",
      "18278\n",
      "19320"
     ]
    },
    {
     "name": "stderr",
     "output_type": "stream",
     "text": [
      "\r",
      " 25%|███████████████████▉                                                           | 621/2464 [00:11<00:30, 61.00it/s]"
     ]
    },
    {
     "name": "stdout",
     "output_type": "stream",
     "text": [
      "\n",
      "19352\n",
      "30366\n",
      "30374\n",
      "22848\n",
      "22848\n",
      "23352\n",
      "23384\n",
      "21210\n",
      "21234\n",
      "25788\n",
      "25804\n",
      "26334\n",
      "26342\n",
      "21756\n",
      "21772\n",
      "24444\n",
      "24460\n",
      "26334"
     ]
    },
    {
     "name": "stderr",
     "output_type": "stream",
     "text": [
      " 26%|████████████████████▎                                                          | 635/2464 [00:11<00:30, 60.12it/s]"
     ]
    },
    {
     "name": "stdout",
     "output_type": "stream",
     "text": [
      "\n",
      "26342\n",
      "27930\n",
      "27954\n",
      "27930\n",
      "27954\n",
      "26334\n",
      "26342\n",
      "21756\n",
      "21772\n",
      "23352\n",
      "23384\n",
      "24192\n",
      "24192\n",
      "19320\n",
      "19352\n",
      "23352\n",
      "23384\n",
      "23352\n",
      "23384\n",
      "23100\n",
      "23116\n",
      "21504"
     ]
    },
    {
     "name": "stderr",
     "output_type": "stream",
     "text": [
      "\r",
      " 26%|████████████████████▌                                                          | 642/2464 [00:11<00:31, 57.48it/s]"
     ]
    },
    {
     "name": "stdout",
     "output_type": "stream",
     "text": [
      "\n",
      "21504\n",
      "27132\n",
      "27148\n",
      "24990\n",
      "24998\n",
      "16632\n",
      "16664\n",
      "23100\n",
      "23116\n",
      "20958\n",
      "20966\n",
      "19614\n",
      "19622\n",
      "19614\n",
      "19622\n",
      "18522\n",
      "18546\n",
      "20664\n",
      "20696\n",
      "21210"
     ]
    },
    {
     "name": "stderr",
     "output_type": "stream",
     "text": [
      " 27%|████████████████████▉                                                          | 654/2464 [00:11<00:31, 58.22it/s]"
     ]
    },
    {
     "name": "stdout",
     "output_type": "stream",
     "text": [
      "\n",
      "21234\n",
      "21504\n",
      "21504\n",
      "18270\n",
      "18278\n",
      "21504\n",
      "21504\n",
      "24192\n",
      "24192\n",
      "20958\n",
      "20966\n",
      "22554\n",
      "22578\n",
      "16632\n",
      "16664\n",
      "16632\n",
      "16664\n",
      "18816\n",
      "18816\n",
      "24696\n",
      "24728\n",
      "20958\n",
      "20966\n",
      "19068"
     ]
    },
    {
     "name": "stderr",
     "output_type": "stream",
     "text": [
      " 27%|█████████████████████▍                                                         | 670/2464 [00:12<00:27, 65.36it/s]"
     ]
    },
    {
     "name": "stdout",
     "output_type": "stream",
     "text": [
      "\n",
      "19084\n",
      "19320\n",
      "19352\n",
      "20160\n",
      "20160\n",
      "16632\n",
      "16664\n",
      "29274\n",
      "29298\n",
      "18522\n",
      "18546\n",
      "20412\n",
      "20428\n",
      "17724\n",
      "17740\n",
      "20412\n",
      "20428\n",
      "17976\n",
      "18008\n",
      "17724\n",
      "17740\n",
      "17472\n",
      "17472\n",
      "21210\n",
      "21234\n",
      "21756\n",
      "21772\n",
      "23100"
     ]
    },
    {
     "name": "stderr",
     "output_type": "stream",
     "text": [
      "\r",
      " 28%|█████████████████████▊                                                         | 679/2464 [00:12<00:25, 70.34it/s]"
     ]
    },
    {
     "name": "stdout",
     "output_type": "stream",
     "text": [
      "\n",
      "23116\n",
      "19320\n",
      "19352\n",
      "27132\n",
      "27148\n",
      "17472\n",
      "17472\n",
      "16632\n",
      "16664\n",
      "20664\n",
      "20696\n",
      "22848\n",
      "22848\n",
      "20664\n",
      "20696\n",
      "15834\n",
      "15858\n",
      "21504\n",
      "21504\n",
      "19866\n",
      "19890\n",
      "15288\n",
      "15320\n",
      "16128\n",
      "16128\n",
      "13944\n",
      "13976\n",
      "13146\n",
      "13170\n",
      "17724\n",
      "17740\n",
      "15288"
     ]
    },
    {
     "name": "stderr",
     "output_type": "stream",
     "text": [
      " 28%|██████████████████████▎                                                        | 697/2464 [00:12<00:23, 76.10it/s]"
     ]
    },
    {
     "name": "stdout",
     "output_type": "stream",
     "text": [
      "\n",
      "15320\n",
      "16128\n",
      "16128\n",
      "15582\n",
      "15590\n",
      "16128\n",
      "16128\n",
      "14784\n",
      "14784\n",
      "18270\n",
      "18278\n",
      "20412\n",
      "20428\n",
      "16128\n",
      "16128\n",
      "14784\n",
      "14784\n",
      "14784\n",
      "14784\n",
      "14784\n",
      "14784\n",
      "15036\n",
      "15052\n",
      "17724\n",
      "17740\n",
      "14238\n",
      "14246\n",
      "15036\n",
      "15052\n",
      "15036"
     ]
    },
    {
     "name": "stderr",
     "output_type": "stream",
     "text": [
      " 29%|██████████████████████▊                                                        | 713/2464 [00:12<00:23, 75.79it/s]"
     ]
    },
    {
     "name": "stdout",
     "output_type": "stream",
     "text": [
      "\n",
      "15052\n",
      "16632\n",
      "16664\n",
      "16380\n",
      "16396\n",
      "19614\n",
      "19622\n",
      "18522\n",
      "18546\n",
      "19866\n",
      "19890\n",
      "16632\n",
      "16664\n",
      "18270\n",
      "18278\n",
      "22008\n",
      "22040\n",
      "17472\n",
      "17472\n",
      "17472\n",
      "17472\n",
      "17472\n",
      "17472\n",
      "22554\n",
      "22578\n",
      "24696"
     ]
    },
    {
     "name": "stderr",
     "output_type": "stream",
     "text": [
      " 30%|███████████████████████▎                                                       | 729/2464 [00:12<00:23, 73.87it/s]"
     ]
    },
    {
     "name": "stdout",
     "output_type": "stream",
     "text": [
      "\n",
      "24728\n",
      "20412\n",
      "20428\n",
      "18270\n",
      "18278\n",
      "21504\n",
      "21504\n",
      "22008\n",
      "22040\n",
      "17724\n",
      "17740\n",
      "16926\n",
      "16934\n",
      "19068\n",
      "19084\n",
      "15036\n",
      "15052\n",
      "22848\n",
      "22848\n",
      "22008\n",
      "22040\n",
      "16632\n",
      "16664\n",
      "23646\n",
      "23654\n",
      "15834\n",
      "15858\n",
      "15582\n",
      "15590\n",
      "17472"
     ]
    },
    {
     "name": "stderr",
     "output_type": "stream",
     "text": [
      "\r",
      " 30%|███████████████████████▋                                                       | 737/2464 [00:12<00:25, 67.66it/s]"
     ]
    },
    {
     "name": "stdout",
     "output_type": "stream",
     "text": [
      "\n",
      "17472\n",
      "17724\n",
      "17740\n",
      "26040\n",
      "26072\n",
      "24696\n",
      "24728\n",
      "19866\n",
      "19890\n",
      "23898\n",
      "23922\n",
      "27384\n",
      "27416\n",
      "29274\n",
      "29298\n",
      "19068\n",
      "19084\n",
      "33054"
     ]
    },
    {
     "name": "stderr",
     "output_type": "stream",
     "text": [
      "\r",
      " 30%|███████████████████████▊                                                       | 744/2464 [00:13<00:30, 56.13it/s]"
     ]
    },
    {
     "name": "stdout",
     "output_type": "stream",
     "text": [
      "\n",
      "33062\n",
      "19320\n",
      "19352\n",
      "19320\n",
      "19352\n",
      "22554\n",
      "22578\n",
      "20412\n",
      "20428\n",
      "24696\n",
      "24728\n",
      "15582\n",
      "15590\n",
      "21756\n",
      "21772\n",
      "23100\n",
      "23116\n",
      "16926\n",
      "16934\n",
      "16926\n",
      "16934\n",
      "14238"
     ]
    },
    {
     "name": "stderr",
     "output_type": "stream",
     "text": [
      " 31%|████████████████████████▎                                                      | 759/2464 [00:13<00:26, 63.45it/s]"
     ]
    },
    {
     "name": "stdout",
     "output_type": "stream",
     "text": [
      "\n",
      "14246\n",
      "16926\n",
      "16934\n",
      "16632\n",
      "16664\n",
      "17724\n",
      "17740\n",
      "16926\n",
      "16934\n",
      "16926\n",
      "16934\n",
      "19068\n",
      "19084\n",
      "20664\n",
      "20696\n",
      "22554\n",
      "22578\n",
      "21504\n",
      "21504\n",
      "19614\n",
      "19622\n",
      "20412\n",
      "20428\n",
      "17976"
     ]
    },
    {
     "name": "stderr",
     "output_type": "stream",
     "text": [
      " 31%|████████████████████████▊                                                      | 773/2464 [00:13<00:27, 60.91it/s]"
     ]
    },
    {
     "name": "stdout",
     "output_type": "stream",
     "text": [
      "\n",
      "18008\n",
      "17976\n",
      "18008\n",
      "19866\n",
      "19890\n",
      "19866\n",
      "19890\n",
      "17724\n",
      "17740\n",
      "16926\n",
      "16934\n",
      "20160\n",
      "20160\n",
      "19614\n",
      "19622\n",
      "20160\n",
      "20160\n",
      "20958\n",
      "20966\n",
      "16380\n",
      "16396\n"
     ]
    },
    {
     "name": "stderr",
     "output_type": "stream",
     "text": [
      "\r",
      " 32%|█████████████████████████                                                      | 780/2464 [00:13<00:26, 63.18it/s]"
     ]
    },
    {
     "name": "stdout",
     "output_type": "stream",
     "text": [
      "18270\n",
      "18278\n",
      "20412\n",
      "20428\n",
      "22008\n",
      "22040\n",
      "17724\n",
      "17740\n",
      "17472\n",
      "17472\n",
      "19320\n",
      "19352\n",
      "24192\n",
      "24192\n",
      "23898\n",
      "23922\n",
      "22008\n",
      "22040\n",
      "20412\n",
      "20428\n",
      "33600\n",
      "33600\n",
      "16926\n",
      "16934\n",
      "21504\n",
      "21504\n",
      "20412"
     ]
    },
    {
     "name": "stderr",
     "output_type": "stream",
     "text": [
      " 32%|█████████████████████████▍                                                     | 794/2464 [00:13<00:30, 54.94it/s]"
     ]
    },
    {
     "name": "stdout",
     "output_type": "stream",
     "text": [
      "\n",
      "20428\n",
      "19866\n",
      "19890\n",
      "18522\n",
      "18546\n",
      "17976\n",
      "18008\n",
      "22848\n",
      "22848\n",
      "25242\n",
      "25266\n",
      "20958\n",
      "20966\n",
      "20958\n",
      "20966\n"
     ]
    },
    {
     "name": "stderr",
     "output_type": "stream",
     "text": [
      "\r",
      " 33%|█████████████████████████▋                                                     | 802/2464 [00:14<00:28, 59.17it/s]"
     ]
    },
    {
     "name": "stdout",
     "output_type": "stream",
     "text": [
      "18522\n",
      "18546\n",
      "17472\n",
      "17472\n",
      "19614\n",
      "19622\n",
      "17472\n",
      "17472\n",
      "19866\n",
      "19890\n",
      "18816\n",
      "18816\n",
      "24192\n",
      "24192\n",
      "19068\n",
      "19084\n",
      "24990\n",
      "24998\n",
      "30072\n",
      "30104\n",
      "22008\n",
      "22040\n",
      "19866\n",
      "19890\n",
      "20412\n",
      "20428\n",
      "19614"
     ]
    },
    {
     "name": "stderr",
     "output_type": "stream",
     "text": [
      " 33%|██████████████████████████▏                                                    | 816/2464 [00:14<00:28, 58.82it/s]"
     ]
    },
    {
     "name": "stdout",
     "output_type": "stream",
     "text": [
      "\n",
      "19622\n",
      "24444\n",
      "24460\n",
      "23646\n",
      "23654\n",
      "17178\n",
      "17202\n",
      "20958\n",
      "20966\n",
      "22848\n",
      "22848\n",
      "27930\n",
      "27954\n",
      "15288\n",
      "15320\n",
      "17724\n",
      "17740\n",
      "15582\n",
      "15590\n",
      "15582\n",
      "15590\n",
      "15834\n",
      "15858\n",
      "15582"
     ]
    },
    {
     "name": "stderr",
     "output_type": "stream",
     "text": [
      "\r",
      " 34%|██████████████████████████▍                                                    | 826/2464 [00:14<00:24, 65.65it/s]"
     ]
    },
    {
     "name": "stdout",
     "output_type": "stream",
     "text": [
      "\n",
      "15590\n",
      "15834\n",
      "15858\n",
      "16380\n",
      "16396\n",
      "18522\n",
      "18546\n",
      "17472\n",
      "17472\n",
      "24444\n",
      "24460\n",
      "21504\n",
      "21504\n",
      "18522\n",
      "18546\n",
      "21210\n",
      "21234\n",
      "16632\n",
      "16664\n",
      "20412\n",
      "20428\n",
      "17178\n",
      "17202\n",
      "18270\n",
      "18278\n",
      "15288\n",
      "15320\n"
     ]
    },
    {
     "name": "stderr",
     "output_type": "stream",
     "text": [
      " 34%|██████████████████████████▉                                                    | 840/2464 [00:14<00:24, 65.03it/s]"
     ]
    },
    {
     "name": "stdout",
     "output_type": "stream",
     "text": [
      "16128\n",
      "16128\n",
      "18522\n",
      "18546\n",
      "19068\n",
      "19084\n",
      "16128\n",
      "16128\n",
      "17976\n",
      "18008\n",
      "17178\n",
      "17202\n",
      "17178\n",
      "17202\n",
      "19866\n",
      "19890\n",
      "17976\n",
      "18008\n",
      "17472\n",
      "17472\n",
      "21210\n",
      "21234\n",
      "17724\n",
      "17740\n",
      "19068"
     ]
    },
    {
     "name": "stderr",
     "output_type": "stream",
     "text": [
      " 35%|███████████████████████████▍                                                   | 855/2464 [00:14<00:24, 66.97it/s]"
     ]
    },
    {
     "name": "stdout",
     "output_type": "stream",
     "text": [
      "\n",
      "19084\n",
      "20412\n",
      "20428\n",
      "24696\n",
      "24728\n",
      "19320\n",
      "19352\n",
      "21504\n",
      "21504\n",
      "16926\n",
      "16934\n",
      "16380\n",
      "16396\n",
      "17724\n",
      "17740\n",
      "20958\n",
      "20966\n",
      "16632\n",
      "16664\n",
      "20664\n",
      "20696\n",
      "19068\n",
      "19084\n",
      "23352\n",
      "23384\n",
      "16926"
     ]
    },
    {
     "name": "stderr",
     "output_type": "stream",
     "text": [
      "\r",
      " 35%|███████████████████████████▋                                                   | 862/2464 [00:14<00:25, 61.89it/s]"
     ]
    },
    {
     "name": "stdout",
     "output_type": "stream",
     "text": [
      "\n",
      "16934\n",
      "19320\n",
      "19352\n",
      "28224\n",
      "28224\n",
      "20958\n",
      "20966\n",
      "22554\n",
      "22578\n",
      "19068\n",
      "19084\n",
      "21210\n",
      "21234\n",
      "19320\n",
      "19352\n",
      "20958\n",
      "20966\n",
      "22554\n",
      "22578\n",
      "26040"
     ]
    },
    {
     "name": "stderr",
     "output_type": "stream",
     "text": [
      " 36%|████████████████████████████                                                   | 875/2464 [00:15<00:27, 57.68it/s]"
     ]
    },
    {
     "name": "stdout",
     "output_type": "stream",
     "text": [
      "\n",
      "26072\n",
      "24696\n",
      "24728\n",
      "22008\n",
      "22040\n",
      "19068\n",
      "19084\n",
      "19068\n",
      "19084\n",
      "14784\n",
      "14784\n",
      "30072\n",
      "30104\n",
      "22008\n",
      "22040\n",
      "17724\n",
      "17740\n",
      "20160\n",
      "20160\n",
      "23898\n",
      "23922\n",
      "21504"
     ]
    },
    {
     "name": "stderr",
     "output_type": "stream",
     "text": [
      " 36%|████████████████████████████▌                                                  | 889/2464 [00:15<00:25, 61.08it/s]"
     ]
    },
    {
     "name": "stdout",
     "output_type": "stream",
     "text": [
      "\n",
      "21504\n",
      "17472\n",
      "17472\n",
      "16380\n",
      "16396\n",
      "18816\n",
      "18816\n",
      "16632\n",
      "16664\n",
      "17976\n",
      "18008\n",
      "17976\n",
      "18008\n",
      "17178\n",
      "17202\n",
      "17976\n",
      "18008\n",
      "19614\n",
      "19622\n",
      "18522\n",
      "18546\n",
      "21756\n",
      "21772\n",
      "22302\n",
      "22310\n",
      "23352\n",
      "23384\n",
      "20160\n",
      "20160\n",
      "20160"
     ]
    },
    {
     "name": "stderr",
     "output_type": "stream",
     "text": [
      " 37%|█████████████████████████████                                                  | 907/2464 [00:15<00:21, 71.76it/s]"
     ]
    },
    {
     "name": "stdout",
     "output_type": "stream",
     "text": [
      "\n",
      "20160\n",
      "16926\n",
      "16934\n",
      "19068\n",
      "19084\n",
      "17472\n",
      "17472\n",
      "16380\n",
      "16396\n",
      "18816\n",
      "18816\n",
      "20160\n",
      "20160\n",
      "19320\n",
      "19352\n",
      "21504\n",
      "21504\n",
      "20412\n",
      "20428\n",
      "23898\n",
      "23922\n",
      "19866\n",
      "19890\n",
      "21210\n",
      "21234\n",
      "21504\n",
      "21504\n",
      "23646\n",
      "23654\n",
      "21504"
     ]
    },
    {
     "name": "stderr",
     "output_type": "stream",
     "text": [
      "\r",
      " 37%|█████████████████████████████▎                                                 | 915/2464 [00:15<00:25, 60.68it/s]"
     ]
    },
    {
     "name": "stdout",
     "output_type": "stream",
     "text": [
      "\n",
      "21504\n",
      "26586\n",
      "26610\n",
      "26586\n",
      "26610\n",
      "25536\n",
      "25536\n",
      "25788\n",
      "25804\n",
      "24444\n",
      "24460\n",
      "21504\n",
      "21504\n",
      "22008\n",
      "22040\n",
      "22554\n",
      "22578\n",
      "24192\n",
      "24192\n",
      "24444\n",
      "24460\n",
      "19614"
     ]
    },
    {
     "name": "stderr",
     "output_type": "stream",
     "text": [
      " 38%|█████████████████████████████▊                                                 | 930/2464 [00:15<00:22, 66.73it/s]"
     ]
    },
    {
     "name": "stdout",
     "output_type": "stream",
     "text": [
      "\n",
      "19622\n",
      "19866\n",
      "19890\n",
      "24444\n",
      "24460\n",
      "21504\n",
      "21504\n",
      "21210\n",
      "21234\n",
      "16926\n",
      "16934\n",
      "21210\n",
      "21234\n",
      "20664\n",
      "20696\n",
      "17724\n",
      "17740\n",
      "20664\n",
      "20696\n",
      "19068\n",
      "19084\n",
      "19614\n",
      "19622\n",
      "23100\n",
      "23116\n",
      "22302"
     ]
    },
    {
     "name": "stderr",
     "output_type": "stream",
     "text": [
      "\r",
      " 38%|██████████████████████████████                                                 | 937/2464 [00:16<00:24, 62.99it/s]"
     ]
    },
    {
     "name": "stdout",
     "output_type": "stream",
     "text": [
      "\n",
      "22310\n",
      "21756\n",
      "21772\n",
      "25242\n",
      "25266\n",
      "21756\n",
      "21772\n",
      "22008\n",
      "22040\n",
      "22848\n",
      "22848\n",
      "26880\n",
      "26880\n",
      "17472\n",
      "17472\n",
      "19068\n",
      "19084\n",
      "19614\n",
      "19622\n",
      "15834\n",
      "15858\n",
      "23898\n",
      "23922\n"
     ]
    },
    {
     "name": "stderr",
     "output_type": "stream",
     "text": [
      " 39%|██████████████████████████████▌                                                | 952/2464 [00:16<00:23, 63.15it/s]"
     ]
    },
    {
     "name": "stdout",
     "output_type": "stream",
     "text": [
      "30366\n",
      "30374\n",
      "21504\n",
      "21504\n",
      "21756\n",
      "21772\n",
      "20958\n",
      "20966\n",
      "18522\n",
      "18546\n",
      "19068\n",
      "19084\n",
      "19068\n",
      "19084\n",
      "20160\n",
      "20160\n",
      "23352\n",
      "23384\n",
      "21210\n",
      "21234\n",
      "23352\n",
      "23384\n",
      "21504\n",
      "21504\n",
      "27132"
     ]
    },
    {
     "name": "stderr",
     "output_type": "stream",
     "text": [
      " 39%|██████████████████████████████▉                                                | 966/2464 [00:16<00:24, 61.47it/s]"
     ]
    },
    {
     "name": "stdout",
     "output_type": "stream",
     "text": [
      "\n",
      "27148\n",
      "20958\n",
      "20966\n",
      "22554\n",
      "22578\n",
      "19614\n",
      "19622\n",
      "18522\n",
      "18546\n",
      "22554\n",
      "22578\n",
      "22008\n",
      "22040\n",
      "20664\n",
      "20696\n",
      "21756\n",
      "21772\n",
      "27132\n",
      "27148\n",
      "20664\n",
      "20696\n",
      "24444"
     ]
    },
    {
     "name": "stderr",
     "output_type": "stream",
     "text": [
      "\r",
      " 39%|███████████████████████████████▏                                               | 973/2464 [00:16<00:23, 63.66it/s]"
     ]
    },
    {
     "name": "stdout",
     "output_type": "stream",
     "text": [
      "\n",
      "24460\n",
      "17724\n",
      "17740\n",
      "22848\n",
      "22848\n",
      "21504\n",
      "21504\n",
      "24192\n",
      "24192\n",
      "22554\n",
      "22578\n",
      "29022\n",
      "29030\n",
      "23352\n",
      "23384\n",
      "24192\n",
      "24192\n",
      "19320"
     ]
    },
    {
     "name": "stderr",
     "output_type": "stream",
     "text": [
      " 40%|███████████████████████████████▌                                               | 986/2464 [00:16<00:26, 54.87it/s]"
     ]
    },
    {
     "name": "stdout",
     "output_type": "stream",
     "text": [
      "\n",
      "19352\n",
      "32760\n",
      "32792\n",
      "35742\n",
      "35750\n",
      "31164\n",
      "31180\n",
      "23898\n",
      "23922\n",
      "21210\n",
      "21234\n",
      "22848\n",
      "22848\n",
      "18522\n",
      "18546\n",
      "19068\n",
      "19084\n",
      "23100\n",
      "23116\n",
      "20958\n",
      "20966\n",
      "19320"
     ]
    },
    {
     "name": "stderr",
     "output_type": "stream",
     "text": [
      "\r",
      " 40%|███████████████████████████████▊                                               | 994/2464 [00:17<00:24, 59.43it/s]"
     ]
    },
    {
     "name": "stdout",
     "output_type": "stream",
     "text": [
      "\n",
      "19352\n",
      "22302\n",
      "22310\n",
      "16632\n",
      "16664\n",
      "16926\n",
      "16934\n",
      "17976\n",
      "18008\n",
      "20160\n",
      "20160\n",
      "19320\n",
      "19352\n",
      "20412\n",
      "20428\n",
      "20958\n",
      "20966\n",
      "20958\n",
      "20966\n",
      "20412\n",
      "20428\n",
      "24444\n",
      "24460\n",
      "22848"
     ]
    },
    {
     "name": "stderr",
     "output_type": "stream",
     "text": [
      " 41%|███████████████████████████████▉                                              | 1007/2464 [00:17<00:27, 52.35it/s]"
     ]
    },
    {
     "name": "stdout",
     "output_type": "stream",
     "text": [
      "\n",
      "22848\n",
      "23898\n",
      "23922\n",
      "20412\n",
      "20428\n",
      "20412\n",
      "20428\n",
      "17178\n",
      "17202\n",
      "17976\n",
      "18008\n",
      "20958\n",
      "20966\n",
      "21210\n",
      "21234\n",
      "16926\n",
      "16934\n",
      "17178"
     ]
    },
    {
     "name": "stderr",
     "output_type": "stream",
     "text": [
      "\r",
      " 41%|████████████████████████████████                                              | 1014/2464 [00:17<00:25, 56.37it/s]"
     ]
    },
    {
     "name": "stdout",
     "output_type": "stream",
     "text": [
      "\n",
      "17202\n",
      "20412\n",
      "20428\n",
      "22008\n",
      "22040\n",
      "15582\n",
      "15590\n",
      "19866\n",
      "19890\n",
      "14784\n",
      "14784\n",
      "17976\n",
      "18008\n",
      "19320\n",
      "19352\n",
      "21210\n",
      "21234\n",
      "17472\n",
      "17472\n",
      "16632\n",
      "16664\n",
      "16632\n",
      "16664\n",
      "19068\n",
      "19084\n",
      "20958\n",
      "20966\n"
     ]
    },
    {
     "name": "stderr",
     "output_type": "stream",
     "text": [
      " 42%|████████████████████████████████▌                                             | 1030/2464 [00:17<00:25, 56.66it/s]"
     ]
    },
    {
     "name": "stdout",
     "output_type": "stream",
     "text": [
      "19866\n",
      "19890\n",
      "20412\n",
      "20428\n",
      "22008\n",
      "22040\n",
      "14238\n",
      "14246\n",
      "13692\n",
      "13708\n",
      "23646\n",
      "23654\n",
      "21210\n",
      "21234\n",
      "15834\n",
      "15858\n",
      "15834\n",
      "15858\n",
      "23646\n",
      "23654\n"
     ]
    },
    {
     "name": "stderr",
     "output_type": "stream",
     "text": [
      " 42%|█████████████████████████████████                                             | 1045/2464 [00:17<00:22, 63.27it/s]"
     ]
    },
    {
     "name": "stdout",
     "output_type": "stream",
     "text": [
      "17976\n",
      "18008\n",
      "16128\n",
      "16128\n",
      "16632\n",
      "16664\n",
      "16128\n",
      "16128\n",
      "17472\n",
      "17472\n",
      "18816\n",
      "18816\n",
      "17724\n",
      "17740\n",
      "17976\n",
      "18008\n",
      "19320\n",
      "19352\n",
      "19866\n",
      "19890\n",
      "19866\n",
      "19890\n",
      "22554\n",
      "22578\n",
      "29274\n",
      "29298\n",
      "18522\n",
      "18546\n",
      "19068\n",
      "19084\n",
      "15288"
     ]
    },
    {
     "name": "stderr",
     "output_type": "stream",
     "text": [
      "\r",
      " 43%|█████████████████████████████████▎                                            | 1053/2464 [00:18<00:21, 65.11it/s]"
     ]
    },
    {
     "name": "stdout",
     "output_type": "stream",
     "text": [
      "\n",
      "15320\n",
      "15582\n",
      "15590\n",
      "19068\n",
      "19084\n",
      "19068\n",
      "19084\n",
      "16128\n",
      "16128\n",
      "15582\n",
      "15590\n",
      "21756\n",
      "21772\n",
      "20664\n",
      "20696\n",
      "25788\n",
      "25804\n",
      "22302\n",
      "22310\n",
      "25536\n",
      "25536\n",
      "26040\n",
      "26072\n"
     ]
    },
    {
     "name": "stderr",
     "output_type": "stream",
     "text": [
      " 43%|█████████████████████████████████▊                                            | 1067/2464 [00:18<00:23, 60.34it/s]"
     ]
    },
    {
     "name": "stdout",
     "output_type": "stream",
     "text": [
      "24696\n",
      "24728\n",
      "22848\n",
      "22848\n",
      "17472\n",
      "17472\n",
      "25242\n",
      "25266\n",
      "21504\n",
      "21504\n",
      "19068\n",
      "19084\n",
      "27132\n",
      "27148\n",
      "32508\n",
      "32524\n",
      "26880\n",
      "26880\n",
      "21504\n",
      "21504\n",
      "19068\n",
      "19084\n",
      "18270"
     ]
    },
    {
     "name": "stderr",
     "output_type": "stream",
     "text": [
      " 44%|██████████████████████████████████▏                                           | 1081/2464 [00:18<00:21, 63.14it/s]"
     ]
    },
    {
     "name": "stdout",
     "output_type": "stream",
     "text": [
      "\n",
      "18278\n",
      "24192\n",
      "24192\n",
      "21504\n",
      "21504\n",
      "18270\n",
      "18278\n",
      "18522\n",
      "18546\n",
      "29568\n",
      "29568\n",
      "22008\n",
      "22040\n",
      "19614\n",
      "19622\n",
      "17724\n",
      "17740\n",
      "16632\n",
      "16664\n",
      "19068\n",
      "19084\n",
      "18270\n",
      "18278\n",
      "17472"
     ]
    },
    {
     "name": "stderr",
     "output_type": "stream",
     "text": [
      "\r",
      " 44%|██████████████████████████████████▌                                           | 1091/2464 [00:18<00:19, 69.70it/s]"
     ]
    },
    {
     "name": "stdout",
     "output_type": "stream",
     "text": [
      "\n",
      "17472\n",
      "18816\n",
      "18816\n",
      "18270\n",
      "18278\n",
      "22008\n",
      "22040\n",
      "20160\n",
      "20160\n",
      "22302\n",
      "22310\n",
      "20664\n",
      "20696\n",
      "19866\n",
      "19890\n",
      "19614\n",
      "19622\n",
      "17178\n",
      "17202\n",
      "19068\n",
      "19084\n",
      "19068\n",
      "19084\n",
      "21210\n",
      "21234\n",
      "16380"
     ]
    },
    {
     "name": "stderr",
     "output_type": "stream",
     "text": [
      "\r",
      " 45%|██████████████████████████████████▊                                           | 1099/2464 [00:18<00:21, 62.70it/s]"
     ]
    },
    {
     "name": "stdout",
     "output_type": "stream",
     "text": [
      "\n",
      "16396\n",
      "17178\n",
      "17202\n",
      "22008\n",
      "22040\n",
      "22008\n",
      "22040\n",
      "23898\n",
      "23922\n",
      "16926\n",
      "16934\n",
      "16128\n",
      "16128\n",
      "25788\n",
      "25804\n",
      "19614\n",
      "19622\n",
      "17724\n",
      "17740\n"
     ]
    },
    {
     "name": "stderr",
     "output_type": "stream",
     "text": [
      " 45%|███████████████████████████████████▎                                          | 1114/2464 [00:18<00:21, 64.00it/s]"
     ]
    },
    {
     "name": "stdout",
     "output_type": "stream",
     "text": [
      "17472\n",
      "17472\n",
      "18816\n",
      "18816\n",
      "18270\n",
      "18278\n",
      "17976\n",
      "18008\n",
      "20412\n",
      "20428\n",
      "20412\n",
      "20428\n",
      "19614\n",
      "19622\n",
      "18816\n",
      "18816\n",
      "17178\n",
      "17202\n",
      "21210\n",
      "21234\n",
      "19614\n",
      "19622\n",
      "23646\n",
      "23654\n",
      "16128"
     ]
    },
    {
     "name": "stderr",
     "output_type": "stream",
     "text": [
      " 46%|███████████████████████████████████▊                                          | 1130/2464 [00:19<00:20, 64.35it/s]"
     ]
    },
    {
     "name": "stdout",
     "output_type": "stream",
     "text": [
      "\n",
      "16128\n",
      "16926\n",
      "16934\n",
      "21210\n",
      "21234\n",
      "26334\n",
      "26342\n",
      "19068\n",
      "19084\n",
      "19320\n",
      "19352\n",
      "16380\n",
      "16396\n",
      "18816\n",
      "18816\n",
      "20160\n",
      "20160\n",
      "19068\n",
      "19084\n",
      "16632\n",
      "16664\n",
      "19320\n",
      "19352\n",
      "20160\n",
      "20160\n",
      "21756\n",
      "21772\n",
      "23352"
     ]
    },
    {
     "name": "stderr",
     "output_type": "stream",
     "text": [
      " 46%|████████████████████████████████████▏                                         | 1144/2464 [00:19<00:19, 66.24it/s]"
     ]
    },
    {
     "name": "stdout",
     "output_type": "stream",
     "text": [
      "\n",
      "23384\n",
      "22848\n",
      "22848\n",
      "21504\n",
      "21504\n",
      "20160\n",
      "20160\n",
      "13944\n",
      "13976\n",
      "17178\n",
      "17202\n",
      "20160\n",
      "20160\n",
      "17472\n",
      "17472\n",
      "19614\n",
      "19622\n",
      "18522\n",
      "18546\n",
      "21756\n",
      "21772\n",
      "18522\n",
      "18546\n",
      "17724\n",
      "17740\n",
      "23646"
     ]
    },
    {
     "name": "stderr",
     "output_type": "stream",
     "text": [
      "\r",
      " 47%|████████████████████████████████████▍                                         | 1151/2464 [00:19<00:21, 61.10it/s]"
     ]
    },
    {
     "name": "stdout",
     "output_type": "stream",
     "text": [
      "\n",
      "23654\n",
      "20160\n",
      "20160\n",
      "22302\n",
      "22310\n",
      "19614\n",
      "19622\n",
      "23100\n",
      "23116\n",
      "22554\n",
      "22578\n",
      "22008\n",
      "22040\n",
      "23898\n",
      "23922\n",
      "25536\n",
      "25536\n",
      "26040\n",
      "26072\n",
      "28728"
     ]
    },
    {
     "name": "stderr",
     "output_type": "stream",
     "text": [
      " 47%|████████████████████████████████████▉                                         | 1165/2464 [00:19<00:22, 56.66it/s]"
     ]
    },
    {
     "name": "stdout",
     "output_type": "stream",
     "text": [
      "\n",
      "28760\n",
      "22554\n",
      "22578\n",
      "22554\n",
      "22578\n",
      "17976\n",
      "18008\n",
      "20412\n",
      "20428\n",
      "20958\n",
      "20966\n",
      "20412\n",
      "20428\n",
      "17724\n",
      "17740\n",
      "22554\n",
      "22578\n",
      "25788\n",
      "25804\n",
      "21504\n",
      "21504\n",
      "20412"
     ]
    },
    {
     "name": "stderr",
     "output_type": "stream",
     "text": [
      "\r",
      " 48%|█████████████████████████████████████                                         | 1172/2464 [00:19<00:22, 58.40it/s]"
     ]
    },
    {
     "name": "stdout",
     "output_type": "stream",
     "text": [
      "\n",
      "20428\n",
      "20412\n",
      "20428\n",
      "15288\n",
      "15320\n",
      "17976\n",
      "18008\n",
      "20958\n",
      "20966\n",
      "22302\n",
      "22310\n",
      "20664\n",
      "20696\n",
      "17472\n",
      "17472\n",
      "22554\n",
      "22578\n",
      "17976\n",
      "18008\n",
      "20958\n",
      "20966\n"
     ]
    },
    {
     "name": "stderr",
     "output_type": "stream",
     "text": [
      " 48%|█████████████████████████████████████▌                                        | 1185/2464 [00:20<00:22, 56.24it/s]"
     ]
    },
    {
     "name": "stdout",
     "output_type": "stream",
     "text": [
      "23898\n",
      "23922\n",
      "22302\n",
      "22310\n",
      "20160\n",
      "20160\n",
      "17472\n",
      "17472\n",
      "16632\n",
      "16664\n",
      "20412\n",
      "20428\n",
      "20160\n",
      "20160\n",
      "19614\n",
      "19622\n",
      "17724\n",
      "17740\n",
      "22554\n",
      "22578\n",
      "22554\n",
      "22578\n",
      "17472"
     ]
    },
    {
     "name": "stderr",
     "output_type": "stream",
     "text": [
      "\r",
      " 48%|█████████████████████████████████████▋                                        | 1192/2464 [00:20<00:21, 58.73it/s]"
     ]
    },
    {
     "name": "stdout",
     "output_type": "stream",
     "text": [
      "\n",
      "17472\n",
      "17724\n",
      "17740\n",
      "16632\n",
      "16664\n",
      "16128\n",
      "16128\n",
      "16632\n",
      "16664\n",
      "17472\n",
      "17472\n",
      "20664\n",
      "20696\n",
      "19068\n",
      "19084\n",
      "20958\n",
      "20966\n",
      "20412\n",
      "20428\n",
      "22554\n",
      "22578\n"
     ]
    },
    {
     "name": "stderr",
     "output_type": "stream",
     "text": [
      " 49%|██████████████████████████████████████▏                                       | 1205/2464 [00:20<00:22, 57.18it/s]"
     ]
    },
    {
     "name": "stdout",
     "output_type": "stream",
     "text": [
      "23352\n",
      "23384\n",
      "19320\n",
      "19352\n",
      "19320\n",
      "19352\n",
      "19866\n",
      "19890\n",
      "19068\n",
      "19084\n",
      "19614\n",
      "19622\n",
      "15834\n",
      "15858\n",
      "17976\n",
      "18008\n",
      "16926\n",
      "16934\n",
      "22848\n",
      "22848\n",
      "20664\n",
      "20696\n",
      "15834\n",
      "15858\n",
      "15834\n",
      "15858\n",
      "14784\n",
      "14784\n"
     ]
    },
    {
     "name": "stderr",
     "output_type": "stream",
     "text": [
      " 50%|██████████████████████████████████████▋                                       | 1222/2464 [00:20<00:19, 64.40it/s]"
     ]
    },
    {
     "name": "stdout",
     "output_type": "stream",
     "text": [
      "19614\n",
      "19622\n",
      "15036\n",
      "15052\n",
      "16632\n",
      "16664\n",
      "20958\n",
      "20966\n",
      "18270\n",
      "18278\n",
      "17472\n",
      "17472\n",
      "18816\n",
      "18816\n",
      "20412\n",
      "20428\n",
      "23646\n",
      "23654\n",
      "21756\n",
      "21772\n",
      "19320\n",
      "19352\n",
      "17724\n",
      "17740\n",
      "15036\n",
      "15052\n",
      "17178"
     ]
    },
    {
     "name": "stderr",
     "output_type": "stream",
     "text": [
      "\r",
      " 50%|██████████████████████████████████████▉                                       | 1231/2464 [00:20<00:17, 69.75it/s]"
     ]
    },
    {
     "name": "stdout",
     "output_type": "stream",
     "text": [
      "\n",
      "17202\n",
      "18522\n",
      "18546\n",
      "18816\n",
      "18816\n",
      "15834\n",
      "15858\n",
      "17472\n",
      "17472\n",
      "24990\n",
      "24998\n",
      "17724\n",
      "17740\n",
      "17976\n",
      "18008\n",
      "17472\n",
      "17472\n",
      "17724\n",
      "17740\n",
      "18522\n",
      "18546\n",
      "18522\n",
      "18546\n",
      "19320\n",
      "19352\n"
     ]
    },
    {
     "name": "stderr",
     "output_type": "stream",
     "text": [
      " 51%|███████████████████████████████████████▍                                      | 1246/2464 [00:21<00:19, 62.58it/s]"
     ]
    },
    {
     "name": "stdout",
     "output_type": "stream",
     "text": [
      "17472\n",
      "17472\n",
      "19614\n",
      "19622\n",
      "17472\n",
      "17472\n",
      "23100\n",
      "23116\n",
      "23100\n",
      "23116\n",
      "20958\n",
      "20966\n",
      "19068\n",
      "19084\n",
      "16380\n",
      "16396\n",
      "16380\n",
      "16396\n",
      "18522\n",
      "18546\n",
      "18816\n",
      "18816\n",
      "16926\n",
      "16934\n",
      "17178\n",
      "17202\n",
      "25242"
     ]
    },
    {
     "name": "stderr",
     "output_type": "stream",
     "text": [
      " 51%|███████████████████████████████████████▉                                      | 1260/2464 [00:21<00:20, 59.53it/s]"
     ]
    },
    {
     "name": "stdout",
     "output_type": "stream",
     "text": [
      "\n",
      "25266\n",
      "23352\n",
      "23384\n",
      "16632\n",
      "16664\n",
      "17178\n",
      "17202\n",
      "16926\n",
      "16934\n",
      "17472\n",
      "17472\n",
      "17472\n",
      "17472\n",
      "18270\n",
      "18278\n",
      "19068\n",
      "19084\n",
      "19614\n",
      "19622"
     ]
    },
    {
     "name": "stderr",
     "output_type": "stream",
     "text": [
      "\r",
      " 51%|████████████████████████████████████████                                      | 1267/2464 [00:21<00:20, 57.13it/s]"
     ]
    },
    {
     "name": "stdout",
     "output_type": "stream",
     "text": [
      "\n",
      "18816\n",
      "18816\n",
      "20664\n",
      "20696\n",
      "28224\n",
      "28224\n",
      "22848\n",
      "22848\n",
      "19320\n",
      "19352\n",
      "19320\n",
      "19352\n",
      "18522\n",
      "18546\n",
      "19068\n",
      "19084\n",
      "19614\n",
      "19622\n",
      "21504\n",
      "21504"
     ]
    },
    {
     "name": "stderr",
     "output_type": "stream",
     "text": [
      " 52%|████████████████████████████████████████▍                                     | 1279/2464 [00:21<00:22, 51.80it/s]"
     ]
    },
    {
     "name": "stdout",
     "output_type": "stream",
     "text": [
      "\n",
      "17724\n",
      "17740\n",
      "22848\n",
      "22848\n",
      "20958\n",
      "20966\n",
      "24192\n",
      "24192\n",
      "17724\n",
      "17740\n",
      "23646\n",
      "23654\n",
      "17472\n",
      "17472\n",
      "17472\n",
      "17472\n",
      "22554"
     ]
    },
    {
     "name": "stderr",
     "output_type": "stream",
     "text": [
      "\r",
      " 52%|████████████████████████████████████████▋                                     | 1285/2464 [00:21<00:23, 49.85it/s]"
     ]
    },
    {
     "name": "stdout",
     "output_type": "stream",
     "text": [
      "\n",
      "22578\n",
      "23898\n",
      "23922\n",
      "25536\n",
      "25536\n",
      "20664\n",
      "20696\n",
      "27132\n",
      "27148\n",
      "23646\n",
      "23654\n",
      "24696\n",
      "24728\n",
      "27678"
     ]
    },
    {
     "name": "stderr",
     "output_type": "stream",
     "text": [
      "\r",
      " 52%|████████████████████████████████████████▊                                     | 1291/2464 [00:22<00:27, 42.01it/s]"
     ]
    },
    {
     "name": "stdout",
     "output_type": "stream",
     "text": [
      "\n",
      "27686\n",
      "21756\n",
      "21772\n",
      "23898\n",
      "23922\n",
      "22848\n",
      "22848\n",
      "22302\n",
      "22310\n",
      "22848\n",
      "22848\n",
      "23646\n",
      "23654\n",
      "19320"
     ]
    },
    {
     "name": "stderr",
     "output_type": "stream",
     "text": [
      " 53%|█████████████████████████████████████████▏                                    | 1303/2464 [00:22<00:24, 47.54it/s]"
     ]
    },
    {
     "name": "stdout",
     "output_type": "stream",
     "text": [
      "\n",
      "19352\n",
      "17724\n",
      "17740\n",
      "27132\n",
      "27148\n",
      "26040\n",
      "26072\n",
      "21210\n",
      "21234\n",
      "18522\n",
      "18546\n",
      "22302\n",
      "22310\n",
      "18270\n",
      "18278\n",
      "21756\n",
      "21772\n",
      "20664\n",
      "20696\n",
      "17976\n",
      "18008\n",
      "17724"
     ]
    },
    {
     "name": "stderr",
     "output_type": "stream",
     "text": [
      "\r",
      " 53%|█████████████████████████████████████████▍                                    | 1309/2464 [00:22<00:23, 49.23it/s]"
     ]
    },
    {
     "name": "stdout",
     "output_type": "stream",
     "text": [
      "\n",
      "17740\n",
      "18522\n",
      "18546\n",
      "18270\n",
      "18278\n",
      "22554\n",
      "22578\n",
      "21756\n",
      "21772\n",
      "20664\n",
      "20696\n",
      "21210\n",
      "21234\n",
      "17976\n",
      "18008\n",
      "18816\n",
      "18816\n",
      "19866\n",
      "19890\n",
      "19320\n",
      "19352\n"
     ]
    },
    {
     "name": "stderr",
     "output_type": "stream",
     "text": [
      " 54%|█████████████████████████████████████████▊                                    | 1322/2464 [00:22<00:22, 50.16it/s]"
     ]
    },
    {
     "name": "stdout",
     "output_type": "stream",
     "text": [
      "17724\n",
      "17740\n",
      "22302\n",
      "22310\n",
      "23646\n",
      "23654\n",
      "24696\n",
      "24728\n",
      "20412\n",
      "20428\n",
      "17178\n",
      "17202\n",
      "21756\n",
      "21772\n",
      "15834\n",
      "15858\n",
      "18522\n",
      "18546\n",
      "24192\n",
      "24192\n",
      "18270\n",
      "18278\n"
     ]
    },
    {
     "name": "stderr",
     "output_type": "stream",
     "text": [
      "\r",
      " 54%|██████████████████████████████████████████                                    | 1328/2464 [00:22<00:22, 51.05it/s]"
     ]
    },
    {
     "name": "stdout",
     "output_type": "stream",
     "text": [
      "19614\n",
      "19622\n",
      "20958\n",
      "20966\n",
      "25788\n",
      "25804\n",
      "27678\n",
      "27686\n",
      "26880\n",
      "26880\n",
      "19068"
     ]
    },
    {
     "name": "stderr",
     "output_type": "stream",
     "text": [
      " 54%|██████████████████████████████████████████▍                                   | 1341/2464 [00:23<00:23, 47.81it/s]"
     ]
    },
    {
     "name": "stdout",
     "output_type": "stream",
     "text": [
      "\n",
      "19084\n",
      "21210\n",
      "21234\n",
      "23898\n",
      "23922\n",
      "16128\n",
      "16128\n",
      "17976\n",
      "18008\n",
      "18522\n",
      "18546\n",
      "16128\n",
      "16128\n",
      "19866\n",
      "19890\n",
      "21756\n",
      "21772\n",
      "21756\n",
      "21772\n",
      "24444\n",
      "24460\n",
      "25788"
     ]
    },
    {
     "name": "stderr",
     "output_type": "stream",
     "text": [
      "\r",
      " 55%|██████████████████████████████████████████▋                                   | 1347/2464 [00:23<00:25, 44.26it/s]"
     ]
    },
    {
     "name": "stdout",
     "output_type": "stream",
     "text": [
      "\n",
      "25804\n",
      "25242\n",
      "25266\n",
      "19614\n",
      "19622\n",
      "22302\n",
      "22310\n",
      "21756\n",
      "21772\n",
      "26040\n",
      "26072\n",
      "28224\n",
      "28224\n",
      "26880\n",
      "26880\n",
      "31416\n",
      "31448\n"
     ]
    },
    {
     "name": "stderr",
     "output_type": "stream",
     "text": [
      " 55%|███████████████████████████████████████████                                   | 1360/2464 [00:23<00:21, 50.80it/s]"
     ]
    },
    {
     "name": "stdout",
     "output_type": "stream",
     "text": [
      "27132\n",
      "27148\n",
      "26334\n",
      "26342\n",
      "25536\n",
      "25536\n",
      "22848\n",
      "22848\n",
      "23352\n",
      "23384\n",
      "24990\n",
      "24998\n",
      "23352\n",
      "23384\n",
      "21504\n",
      "21504\n",
      "18816\n",
      "18816\n",
      "19614\n",
      "19622\n",
      "23352\n",
      "23384\n",
      "27930"
     ]
    },
    {
     "name": "stderr",
     "output_type": "stream",
     "text": [
      " 56%|███████████████████████████████████████████▍                                  | 1372/2464 [00:23<00:22, 48.68it/s]"
     ]
    },
    {
     "name": "stdout",
     "output_type": "stream",
     "text": [
      "\n",
      "27954\n",
      "19866\n",
      "19890\n",
      "26040\n",
      "26072\n",
      "20664\n",
      "20696\n",
      "22302\n",
      "22310\n",
      "22848\n",
      "22848\n",
      "21504\n",
      "21504\n",
      "23646\n",
      "23654\n",
      "20160\n",
      "20160\n"
     ]
    },
    {
     "name": "stderr",
     "output_type": "stream",
     "text": [
      "\r",
      " 56%|███████████████████████████████████████████▌                                  | 1378/2464 [00:23<00:24, 43.58it/s]"
     ]
    },
    {
     "name": "stdout",
     "output_type": "stream",
     "text": [
      "22848\n",
      "22848\n",
      "23898\n",
      "23922\n",
      "25536\n",
      "25536\n",
      "27384\n",
      "27416\n",
      "25242\n",
      "25266\n",
      "23646\n",
      "23654\n",
      "22554\n",
      "22578\n",
      "24192"
     ]
    },
    {
     "name": "stderr",
     "output_type": "stream",
     "text": [
      "\r",
      " 56%|███████████████████████████████████████████▊                                  | 1384/2464 [00:23<00:23, 46.33it/s]"
     ]
    },
    {
     "name": "stdout",
     "output_type": "stream",
     "text": [
      "\n",
      "24192\n",
      "27384\n",
      "27416\n",
      "24990\n",
      "24998\n",
      "22008\n",
      "22040\n",
      "20412\n",
      "20428\n",
      "28224\n",
      "28224\n",
      "27132\n",
      "27148\n",
      "21210\n",
      "21234\n",
      "17724\n",
      "17740\n",
      "18270\n",
      "18278\n",
      "17178\n",
      "17202\n"
     ]
    },
    {
     "name": "stderr",
     "output_type": "stream",
     "text": [
      " 57%|████████████████████████████████████████████▏                                 | 1396/2464 [00:24<00:21, 50.19it/s]"
     ]
    },
    {
     "name": "stdout",
     "output_type": "stream",
     "text": [
      "18816\n",
      "18816\n",
      "17976\n",
      "18008\n",
      "17178\n",
      "17202\n",
      "17976\n",
      "18008\n",
      "18270\n",
      "18278\n",
      "17178\n",
      "17202\n",
      "24192\n",
      "24192\n",
      "27132\n",
      "27148\n",
      "19866\n",
      "19890\n",
      "20664\n",
      "20696\n",
      "19614"
     ]
    },
    {
     "name": "stderr",
     "output_type": "stream",
     "text": [
      " 57%|████████████████████████████████████████████▋                                 | 1410/2464 [00:24<00:19, 53.91it/s]"
     ]
    },
    {
     "name": "stdout",
     "output_type": "stream",
     "text": [
      "\n",
      "19622\n",
      "16632\n",
      "16664\n",
      "19068\n",
      "19084\n",
      "19320\n",
      "19352\n",
      "16926\n",
      "16934\n",
      "20412\n",
      "20428\n",
      "21756\n",
      "21772\n",
      "22302\n",
      "22310\n",
      "19866\n",
      "19890\n",
      "19320\n",
      "19352\n",
      "22554\n",
      "22578\n",
      "22302"
     ]
    },
    {
     "name": "stderr",
     "output_type": "stream",
     "text": [
      " 58%|█████████████████████████████████████████████                                 | 1422/2464 [00:24<00:18, 56.20it/s]"
     ]
    },
    {
     "name": "stdout",
     "output_type": "stream",
     "text": [
      "\n",
      "22310\n",
      "38136\n",
      "38168\n",
      "19866\n",
      "19890\n",
      "26040\n",
      "26072\n",
      "25536\n",
      "25536\n",
      "27930\n",
      "27954\n",
      "32760\n",
      "32792\n",
      "22848\n",
      "22848\n",
      "22008\n",
      "22040\n",
      "26586\n",
      "26610\n",
      "20664\n",
      "20696\n",
      "18270"
     ]
    },
    {
     "name": "stderr",
     "output_type": "stream",
     "text": [
      "\r",
      " 58%|█████████████████████████████████████████████▏                                | 1428/2464 [00:24<00:19, 53.57it/s]"
     ]
    },
    {
     "name": "stdout",
     "output_type": "stream",
     "text": [
      "\n",
      "18278\n",
      "23898\n",
      "23922\n",
      "21504\n",
      "21504\n",
      "22302\n",
      "22310\n",
      "18270\n",
      "18278\n",
      "23646\n",
      "23654\n",
      "27930\n",
      "27954\n",
      "21210\n",
      "21234\n",
      "21756\n",
      "21772\n",
      "18522\n",
      "18546\n",
      "21210\n",
      "21234\n",
      "21504"
     ]
    },
    {
     "name": "stderr",
     "output_type": "stream",
     "text": [
      " 58%|█████████████████████████████████████████████▌                                | 1441/2464 [00:25<00:18, 54.81it/s]"
     ]
    },
    {
     "name": "stdout",
     "output_type": "stream",
     "text": [
      "\n",
      "21504\n",
      "27384\n",
      "27416\n",
      "22848\n",
      "22848\n",
      "23898\n",
      "23922\n",
      "24990\n",
      "24998\n",
      "25536\n",
      "25536\n",
      "26040\n",
      "26072\n",
      "29568\n",
      "29568\n",
      "29274\n",
      "29298\n",
      "23646\n",
      "23654\n",
      "20958"
     ]
    },
    {
     "name": "stderr",
     "output_type": "stream",
     "text": [
      " 59%|█████████████████████████████████████████████▉                                | 1453/2464 [00:25<00:18, 54.45it/s]"
     ]
    },
    {
     "name": "stdout",
     "output_type": "stream",
     "text": [
      "\n",
      "20966\n",
      "22848\n",
      "22848\n",
      "24444\n",
      "24460\n",
      "18270\n",
      "18278\n",
      "17976\n",
      "18008\n",
      "20412\n",
      "20428\n",
      "26040\n",
      "26072\n",
      "23100\n",
      "23116\n",
      "37338\n",
      "37362\n",
      "40824\n",
      "40856\n",
      "20160"
     ]
    },
    {
     "name": "stderr",
     "output_type": "stream",
     "text": [
      "\r",
      " 59%|██████████████████████████████████████████████▏                               | 1459/2464 [00:25<00:18, 55.35it/s]"
     ]
    },
    {
     "name": "stdout",
     "output_type": "stream",
     "text": [
      "\n",
      "20160\n",
      "18522\n",
      "18546\n",
      "14784\n",
      "14784\n",
      "19614\n",
      "19622\n",
      "20412\n",
      "20428\n",
      "16926\n",
      "16934\n",
      "17472\n",
      "17472\n",
      "25536\n",
      "25536\n",
      "24192\n",
      "24192\n",
      "26586\n",
      "26610\n",
      "22554\n",
      "22578\n",
      "21504\n",
      "21504\n",
      "22302"
     ]
    },
    {
     "name": "stderr",
     "output_type": "stream",
     "text": [
      " 60%|██████████████████████████████████████████████▌                               | 1472/2464 [00:25<00:17, 57.14it/s]"
     ]
    },
    {
     "name": "stdout",
     "output_type": "stream",
     "text": [
      "\n",
      "22310\n",
      "21504\n",
      "21504\n",
      "15288\n",
      "15320\n",
      "22848\n",
      "22848\n",
      "22554\n",
      "22578\n",
      "16128\n",
      "16128\n",
      "19614\n",
      "19622\n",
      "24990\n",
      "24998\n",
      "17976\n",
      "18008\n",
      "22848\n",
      "22848\n",
      "20412\n",
      "20428\n",
      "16632"
     ]
    },
    {
     "name": "stderr",
     "output_type": "stream",
     "text": [
      " 60%|███████████████████████████████████████████████                               | 1485/2464 [00:25<00:18, 53.63it/s]"
     ]
    },
    {
     "name": "stdout",
     "output_type": "stream",
     "text": [
      "\n",
      "16664\n",
      "17178\n",
      "17202\n",
      "17472\n",
      "17472\n",
      "22008\n",
      "22040\n",
      "22302\n",
      "22310\n",
      "19866\n",
      "19890\n",
      "21504\n",
      "21504\n",
      "17724\n",
      "17740\n",
      "23898\n",
      "23922\n",
      "22554\n",
      "22578\n",
      "21756"
     ]
    },
    {
     "name": "stderr",
     "output_type": "stream",
     "text": [
      "\r",
      " 61%|███████████████████████████████████████████████▏                              | 1492/2464 [00:25<00:17, 55.58it/s]"
     ]
    },
    {
     "name": "stdout",
     "output_type": "stream",
     "text": [
      "\n",
      "21772\n",
      "23352\n",
      "23384\n",
      "22302\n",
      "22310\n",
      "36288\n",
      "36288\n",
      "20412\n",
      "20428\n",
      "22554\n",
      "22578\n",
      "20958\n",
      "20966\n",
      "23100\n",
      "23116\n",
      "24990\n",
      "24998\n",
      "19614\n",
      "19622\n",
      "18522"
     ]
    },
    {
     "name": "stderr",
     "output_type": "stream",
     "text": [
      " 61%|███████████████████████████████████████████████▌                              | 1504/2464 [00:26<00:17, 55.94it/s]"
     ]
    },
    {
     "name": "stdout",
     "output_type": "stream",
     "text": [
      "\n",
      "18546\n",
      "19068\n",
      "19084\n",
      "17724\n",
      "17740\n",
      "18270\n",
      "18278\n",
      "17178\n",
      "17202\n",
      "18270\n",
      "18278\n",
      "17976\n",
      "18008\n",
      "20412\n",
      "20428\n",
      "17472\n",
      "17472\n",
      "18816\n",
      "18816\n",
      "20412\n",
      "20428\n",
      "21210"
     ]
    },
    {
     "name": "stderr",
     "output_type": "stream",
     "text": [
      " 62%|████████████████████████████████████████████████                              | 1517/2464 [00:26<00:16, 58.06it/s]"
     ]
    },
    {
     "name": "stdout",
     "output_type": "stream",
     "text": [
      "\n",
      "21234\n",
      "22302\n",
      "22310\n",
      "19068\n",
      "19084\n",
      "16128\n",
      "16128\n",
      "15582\n",
      "15590\n",
      "19068\n",
      "19084\n",
      "18816\n",
      "18816\n",
      "19320\n",
      "19352\n",
      "17178\n",
      "17202\n",
      "24696\n",
      "24728\n",
      "24696\n",
      "24728\n",
      "17976\n",
      "18008\n",
      "15834"
     ]
    },
    {
     "name": "stderr",
     "output_type": "stream",
     "text": [
      "\r",
      " 62%|████████████████████████████████████████████████▎                             | 1525/2464 [00:26<00:15, 62.23it/s]"
     ]
    },
    {
     "name": "stdout",
     "output_type": "stream",
     "text": [
      "\n",
      "15858\n",
      "17472\n",
      "17472\n",
      "16632\n",
      "16664\n",
      "17472\n",
      "17472\n",
      "16926\n",
      "16934\n",
      "15582\n",
      "15590\n",
      "14490\n",
      "14514\n",
      "17976\n",
      "18008\n",
      "17178\n",
      "17202\n",
      "24444\n",
      "24460\n",
      "21756\n",
      "21772\n",
      "23352"
     ]
    },
    {
     "name": "stderr",
     "output_type": "stream",
     "text": [
      " 62%|████████████████████████████████████████████████▋                             | 1539/2464 [00:26<00:16, 56.50it/s]"
     ]
    },
    {
     "name": "stdout",
     "output_type": "stream",
     "text": [
      "\n",
      "23384\n",
      "23898\n",
      "23922\n",
      "22008\n",
      "22040\n",
      "22848\n",
      "22848\n",
      "20160\n",
      "20160\n",
      "20958\n",
      "20966\n",
      "14784\n",
      "14784\n",
      "17976\n",
      "18008\n",
      "19320\n",
      "19352\n",
      "20412\n",
      "20428\n",
      "18816"
     ]
    },
    {
     "name": "stderr",
     "output_type": "stream",
     "text": [
      "\r",
      " 63%|████████████████████████████████████████████████▉                             | 1546/2464 [00:26<00:15, 58.02it/s]"
     ]
    },
    {
     "name": "stdout",
     "output_type": "stream",
     "text": [
      "\n",
      "18816\n",
      "19320\n",
      "19352\n",
      "15288\n",
      "15320\n",
      "20958\n",
      "20966\n",
      "17472\n",
      "17472\n",
      "20412\n",
      "20428\n",
      "24990\n",
      "24998\n",
      "22554\n",
      "22578\n",
      "17472\n",
      "17472\n",
      "17472\n",
      "17472\n",
      "23352\n",
      "23384\n",
      "26040"
     ]
    },
    {
     "name": "stderr",
     "output_type": "stream",
     "text": [
      " 63%|█████████████████████████████████████████████████▎                            | 1559/2464 [00:27<00:15, 59.89it/s]"
     ]
    },
    {
     "name": "stdout",
     "output_type": "stream",
     "text": [
      "\n",
      "26072\n",
      "22302\n",
      "22310\n",
      "21756\n",
      "21772\n",
      "22554\n",
      "22578\n",
      "17976\n",
      "18008\n",
      "25788\n",
      "25804\n",
      "21504\n",
      "21504\n",
      "16926\n",
      "16934\n",
      "16380\n",
      "16396\n",
      "19320\n",
      "19352\n",
      "21210\n",
      "21234\n",
      "14784\n",
      "14784\n",
      "18522\n",
      "18546\n"
     ]
    },
    {
     "name": "stderr",
     "output_type": "stream",
     "text": [
      "\r",
      " 64%|█████████████████████████████████████████████████▌                            | 1566/2464 [00:27<00:17, 51.24it/s]"
     ]
    },
    {
     "name": "stdout",
     "output_type": "stream",
     "text": [
      "27678\n",
      "27686\n",
      "17178\n",
      "17202\n",
      "19866\n",
      "19890\n",
      "17472\n",
      "17472\n",
      "17976\n",
      "18008\n",
      "16632\n",
      "16664\n",
      "15582\n",
      "15590\n",
      "19614"
     ]
    },
    {
     "name": "stderr",
     "output_type": "stream",
     "text": [
      " 64%|█████████████████████████████████████████████████▉                            | 1578/2464 [00:27<00:17, 51.68it/s]"
     ]
    },
    {
     "name": "stdout",
     "output_type": "stream",
     "text": [
      "\n",
      "19622\n",
      "19866\n",
      "19890\n",
      "19614\n",
      "19622\n",
      "22008\n",
      "22040\n",
      "17724\n",
      "17740\n",
      "14490\n",
      "14514\n",
      "13440\n",
      "13440\n",
      "16128\n",
      "16128\n",
      "17724\n",
      "17740\n",
      "15582\n"
     ]
    },
    {
     "name": "stderr",
     "output_type": "stream",
     "text": [
      " 65%|██████████████████████████████████████████████████▍                           | 1592/2464 [00:27<00:14, 58.60it/s]"
     ]
    },
    {
     "name": "stdout",
     "output_type": "stream",
     "text": [
      "15590\n",
      "14238\n",
      "14246\n",
      "20664\n",
      "20696\n",
      "20664\n",
      "20696\n",
      "20412\n",
      "20428\n",
      "20160\n",
      "20160\n",
      "18270\n",
      "18278\n",
      "18522\n",
      "18546\n",
      "19614\n",
      "19622\n",
      "19866\n",
      "19890\n",
      "21756\n",
      "21772\n",
      "24192\n",
      "24192\n",
      "20160\n",
      "20160\n",
      "20664"
     ]
    },
    {
     "name": "stderr",
     "output_type": "stream",
     "text": [
      "\r",
      " 65%|██████████████████████████████████████████████████▌                           | 1599/2464 [00:27<00:14, 60.40it/s]"
     ]
    },
    {
     "name": "stdout",
     "output_type": "stream",
     "text": [
      "\n",
      "20696\n",
      "23100\n",
      "23116\n",
      "22554\n",
      "22578\n",
      "21756\n",
      "21772\n",
      "21504\n",
      "21504\n",
      "20160\n",
      "20160\n",
      "22848\n",
      "22848\n",
      "20412\n",
      "20428\n",
      "21210\n",
      "21234\n",
      "19068\n",
      "19084\n",
      "19320\n",
      "19352\n",
      "24444\n",
      "24460\n",
      "22554"
     ]
    },
    {
     "name": "stderr",
     "output_type": "stream",
     "text": [
      " 65%|███████████████████████████████████████████████████                           | 1613/2464 [00:28<00:14, 59.27it/s]"
     ]
    },
    {
     "name": "stdout",
     "output_type": "stream",
     "text": [
      "\n",
      "22578\n",
      "20412\n",
      "20428\n",
      "16632\n",
      "16664\n",
      "15834\n",
      "15858\n",
      "16632\n",
      "16664\n",
      "21210\n",
      "21234\n",
      "17472\n",
      "17472\n",
      "17724\n",
      "17740\n",
      "16380\n",
      "16396\n",
      "23100\n",
      "23116\n",
      "17724\n"
     ]
    },
    {
     "name": "stderr",
     "output_type": "stream",
     "text": [
      "\r",
      " 66%|███████████████████████████████████████████████████▎                          | 1620/2464 [00:28<00:14, 58.17it/s]"
     ]
    },
    {
     "name": "stdout",
     "output_type": "stream",
     "text": [
      "17740\n",
      "21504\n",
      "21504\n",
      "22302\n",
      "22310\n",
      "22008\n",
      "22040\n",
      "18270\n",
      "18278\n",
      "17976\n",
      "18008\n",
      "23352\n",
      "23384\n",
      "22848\n",
      "22848\n",
      "20664\n",
      "20696\n",
      "16926\n",
      "16934\n",
      "19866"
     ]
    },
    {
     "name": "stderr",
     "output_type": "stream",
     "text": [
      " 66%|███████████████████████████████████████████████████▋                          | 1633/2464 [00:28<00:14, 57.61it/s]"
     ]
    },
    {
     "name": "stdout",
     "output_type": "stream",
     "text": [
      "\n",
      "19890\n",
      "18816\n",
      "18816\n",
      "19320\n",
      "19352\n",
      "19320\n",
      "19352\n",
      "18816\n",
      "18816\n",
      "18522\n",
      "18546\n",
      "18816\n",
      "18816\n",
      "18522\n",
      "18546\n",
      "19320\n",
      "19352\n",
      "21756\n",
      "21772\n",
      "19866\n",
      "19890\n",
      "23352\n",
      "23384\n",
      "20160\n"
     ]
    },
    {
     "name": "stderr",
     "output_type": "stream",
     "text": [
      " 67%|████████████████████████████████████████████████████▏                         | 1647/2464 [00:28<00:13, 59.33it/s]"
     ]
    },
    {
     "name": "stdout",
     "output_type": "stream",
     "text": [
      "20160\n",
      "29274\n",
      "29298\n",
      "24696\n",
      "24728\n",
      "22302\n",
      "22310\n",
      "24192\n",
      "24192\n",
      "18522\n",
      "18546\n",
      "20412\n",
      "20428\n",
      "20412\n",
      "20428\n",
      "20160\n",
      "20160\n",
      "17976\n",
      "18008\n",
      "18270\n",
      "18278\n",
      "26334\n",
      "26342\n",
      "20958"
     ]
    },
    {
     "name": "stderr",
     "output_type": "stream",
     "text": [
      " 67%|████████████████████████████████████████████████████▌                         | 1660/2464 [00:28<00:13, 60.99it/s]"
     ]
    },
    {
     "name": "stdout",
     "output_type": "stream",
     "text": [
      "\n",
      "20966\n",
      "20412\n",
      "20428\n",
      "20412\n",
      "20428\n",
      "24696\n",
      "24728\n",
      "18270\n",
      "18278\n",
      "19866\n",
      "19890\n",
      "24696\n",
      "24728\n",
      "22554\n",
      "22578\n",
      "20412\n",
      "20428\n",
      "20412\n",
      "20428\n",
      "24990\n",
      "24998\n"
     ]
    },
    {
     "name": "stderr",
     "output_type": "stream",
     "text": [
      "\r",
      " 68%|████████████████████████████████████████████████████▊                         | 1667/2464 [00:28<00:13, 58.14it/s]"
     ]
    },
    {
     "name": "stdout",
     "output_type": "stream",
     "text": [
      "25788\n",
      "25804\n",
      "27930\n",
      "27954\n",
      "21504\n",
      "21504\n",
      "22848\n",
      "22848\n",
      "24990\n",
      "24998\n",
      "15834\n",
      "15858\n",
      "19068\n",
      "19084\n",
      "17724\n",
      "17740\n",
      "20664\n",
      "20696\n",
      "20958\n",
      "20966\n",
      "28476"
     ]
    },
    {
     "name": "stderr",
     "output_type": "stream",
     "text": [
      " 68%|█████████████████████████████████████████████████████▏                        | 1679/2464 [00:29<00:14, 55.75it/s]"
     ]
    },
    {
     "name": "stdout",
     "output_type": "stream",
     "text": [
      "\n",
      "28492\n",
      "20160\n",
      "20160\n",
      "20160\n",
      "20160\n",
      "16632\n",
      "16664\n",
      "19320\n",
      "19352\n",
      "16128\n",
      "16128\n",
      "23646\n",
      "23654\n",
      "21210\n",
      "21234\n",
      "21756\n",
      "21772\n",
      "22302\n",
      "22310\n",
      "25788\n",
      "25804\n",
      "23352"
     ]
    },
    {
     "name": "stderr",
     "output_type": "stream",
     "text": [
      "\r",
      " 68%|█████████████████████████████████████████████████████▎                        | 1685/2464 [00:29<00:16, 48.30it/s]"
     ]
    },
    {
     "name": "stdout",
     "output_type": "stream",
     "text": [
      "\n",
      "23384\n",
      "25788\n",
      "25804\n",
      "23898\n",
      "23922\n",
      "17976\n",
      "18008\n",
      "22554\n",
      "22578\n",
      "21756\n",
      "21772\n",
      "20958\n",
      "20966\n",
      "17472\n",
      "17472\n",
      "23100"
     ]
    },
    {
     "name": "stderr",
     "output_type": "stream",
     "text": [
      " 69%|█████████████████████████████████████████████████████▋                        | 1697/2464 [00:29<00:16, 46.97it/s]"
     ]
    },
    {
     "name": "stdout",
     "output_type": "stream",
     "text": [
      "\n",
      "23116\n",
      "20160\n",
      "20160\n",
      "23646\n",
      "23654\n",
      "18270\n",
      "18278\n",
      "22554\n",
      "22578\n",
      "20412\n",
      "20428\n",
      "22554\n",
      "22578\n",
      "20664\n",
      "20696\n"
     ]
    },
    {
     "name": "stderr",
     "output_type": "stream",
     "text": [
      "\r",
      " 69%|█████████████████████████████████████████████████████▉                        | 1702/2464 [00:29<00:16, 45.59it/s]"
     ]
    },
    {
     "name": "stdout",
     "output_type": "stream",
     "text": [
      "22848\n",
      "22848\n",
      "24444\n",
      "24460\n",
      "23100\n",
      "23116\n",
      "27678\n",
      "27686\n",
      "24990\n",
      "24998\n",
      "22302\n",
      "22310\n",
      "28224\n",
      "28224\n",
      "33852\n",
      "33868\n",
      "24444\n",
      "24460\n",
      "24696"
     ]
    },
    {
     "name": "stderr",
     "output_type": "stream",
     "text": [
      " 69%|██████████████████████████████████████████████████████▏                       | 1712/2464 [00:29<00:16, 46.14it/s]"
     ]
    },
    {
     "name": "stdout",
     "output_type": "stream",
     "text": [
      "\n",
      "24728\n",
      "24990\n",
      "24998\n",
      "19866\n",
      "19890\n",
      "20664\n",
      "20696\n",
      "21210\n",
      "21234\n",
      "23898\n",
      "23922\n",
      "23352\n",
      "23384\n",
      "20160\n",
      "20160\n",
      "23352\n",
      "23384\n",
      "26880"
     ]
    },
    {
     "name": "stderr",
     "output_type": "stream",
     "text": [
      " 70%|██████████████████████████████████████████████████████▋                       | 1726/2464 [00:30<00:14, 51.46it/s]"
     ]
    },
    {
     "name": "stdout",
     "output_type": "stream",
     "text": [
      "\n",
      "26880\n",
      "25536\n",
      "25536\n",
      "20412\n",
      "20428\n",
      "20664\n",
      "20696\n",
      "18816\n",
      "18816\n",
      "38430\n",
      "38438\n",
      "34398\n",
      "34406\n",
      "19320\n",
      "19352\n",
      "18522\n",
      "18546\n",
      "25536\n",
      "25536\n",
      "21504\n",
      "21504\n"
     ]
    },
    {
     "name": "stderr",
     "output_type": "stream",
     "text": [
      "\r",
      " 70%|██████████████████████████████████████████████████████▊                       | 1732/2464 [00:30<00:15, 48.33it/s]"
     ]
    },
    {
     "name": "stdout",
     "output_type": "stream",
     "text": [
      "24192\n",
      "24192\n",
      "24696\n",
      "24728\n",
      "25242\n",
      "25266\n",
      "29274\n",
      "29298\n",
      "20664\n",
      "20696\n",
      "20160\n",
      "20160\n",
      "22554\n",
      "22578\n",
      "23352\n",
      "23384\n",
      "23100\n",
      "23116\n"
     ]
    },
    {
     "name": "stderr",
     "output_type": "stream",
     "text": [
      " 71%|███████████████████████████████████████████████████████▏                      | 1744/2464 [00:30<00:14, 50.52it/s]"
     ]
    },
    {
     "name": "stdout",
     "output_type": "stream",
     "text": [
      "22302\n",
      "22310\n",
      "20958\n",
      "20966\n",
      "23352\n",
      "23384\n",
      "17976\n",
      "18008\n",
      "17976\n",
      "18008\n",
      "16380\n",
      "16396\n",
      "19068\n",
      "19084\n",
      "16926\n",
      "16934\n",
      "17724\n",
      "17740\n",
      "17976\n",
      "18008\n",
      "21210"
     ]
    },
    {
     "name": "stderr",
     "output_type": "stream",
     "text": [
      "\r",
      " 71%|███████████████████████████████████████████████████████▍                      | 1750/2464 [00:30<00:13, 52.55it/s]"
     ]
    },
    {
     "name": "stdout",
     "output_type": "stream",
     "text": [
      "\n",
      "21234\n",
      "17976\n",
      "18008\n",
      "17472\n",
      "17472\n",
      "20958\n",
      "20966\n",
      "19320\n",
      "19352\n",
      "19320\n",
      "19352\n",
      "18522\n",
      "18546\n",
      "17724\n",
      "17740\n",
      "15834\n",
      "15858\n",
      "19068\n",
      "19084\n",
      "20160"
     ]
    },
    {
     "name": "stderr",
     "output_type": "stream",
     "text": [
      "\r",
      " 71%|███████████████████████████████████████████████████████▌                      | 1756/2464 [00:30<00:13, 50.89it/s]"
     ]
    },
    {
     "name": "stdout",
     "output_type": "stream",
     "text": [
      "\n",
      "20160\n",
      "17178\n",
      "17202\n",
      "17724\n",
      "17740\n",
      "21210\n",
      "21234\n",
      "23646\n",
      "23654\n",
      "19866\n",
      "19890\n",
      "19614\n",
      "19622\n"
     ]
    },
    {
     "name": "stderr",
     "output_type": "stream",
     "text": [
      " 72%|███████████████████████████████████████████████████████▉                      | 1768/2464 [00:31<00:15, 45.49it/s]"
     ]
    },
    {
     "name": "stdout",
     "output_type": "stream",
     "text": [
      "26040\n",
      "26072\n",
      "21210\n",
      "21234\n",
      "17472\n",
      "17472\n",
      "17472\n",
      "17472\n",
      "17472\n",
      "17472\n",
      "17178\n",
      "17202\n",
      "19614\n",
      "19622\n",
      "18816\n",
      "18816\n",
      "24696\n",
      "24728\n",
      "24444"
     ]
    },
    {
     "name": "stderr",
     "output_type": "stream",
     "text": [
      " 72%|████████████████████████████████████████████████████████▎                     | 1779/2464 [00:31<00:14, 46.40it/s]"
     ]
    },
    {
     "name": "stdout",
     "output_type": "stream",
     "text": [
      "\n",
      "24460\n",
      "23646\n",
      "23654\n",
      "20412\n",
      "20428\n",
      "18270\n",
      "18278\n",
      "20664\n",
      "20696\n",
      "19068\n",
      "19084\n",
      "21210\n",
      "21234\n",
      "17178\n",
      "17202\n",
      "17472\n",
      "17472\n",
      "21756"
     ]
    },
    {
     "name": "stderr",
     "output_type": "stream",
     "text": [
      "\r",
      " 73%|████████████████████████████████████████████████████████▌                     | 1787/2464 [00:31<00:13, 49.93it/s]"
     ]
    },
    {
     "name": "stdout",
     "output_type": "stream",
     "text": [
      "\n",
      "21772\n",
      "21210\n",
      "21234\n",
      "22848\n",
      "22848\n",
      "22008\n",
      "22040\n",
      "17976\n",
      "18008\n",
      "18816\n",
      "18816\n",
      "23646\n",
      "23654\n",
      "18816\n",
      "18816\n",
      "18816\n",
      "18816\n",
      "19068\n",
      "19084\n",
      "23646\n",
      "23654\n",
      "21210"
     ]
    },
    {
     "name": "stderr",
     "output_type": "stream",
     "text": [
      " 73%|█████████████████████████████████████████████████████████                     | 1801/2464 [00:31<00:11, 56.74it/s]"
     ]
    },
    {
     "name": "stdout",
     "output_type": "stream",
     "text": [
      "\n",
      "21234\n",
      "22848\n",
      "22848\n",
      "24696\n",
      "24728\n",
      "24444\n",
      "24460\n",
      "21210\n",
      "21234\n",
      "18522\n",
      "18546\n",
      "15834\n",
      "15858\n",
      "24192\n",
      "24192\n",
      "19320\n",
      "19352\n",
      "16926\n",
      "16934\n",
      "19866\n",
      "19890\n",
      "19614\n",
      "19622\n",
      "19614\n",
      "19622\n"
     ]
    },
    {
     "name": "stderr",
     "output_type": "stream",
     "text": [
      "\r",
      " 73%|█████████████████████████████████████████████████████████▏                    | 1808/2464 [00:31<00:12, 53.30it/s]"
     ]
    },
    {
     "name": "stdout",
     "output_type": "stream",
     "text": [
      "15834\n",
      "15858\n",
      "18816\n",
      "18816\n",
      "17724\n",
      "17740\n",
      "20664\n",
      "20696\n",
      "20160\n",
      "20160\n",
      "17976\n",
      "18008\n",
      "20958\n",
      "20966\n",
      "19320\n",
      "19352\n",
      "20958\n",
      "20966\n",
      "23898\n",
      "23922\n"
     ]
    },
    {
     "name": "stderr",
     "output_type": "stream",
     "text": [
      " 74%|█████████████████████████████████████████████████████████▌                    | 1820/2464 [00:32<00:12, 50.43it/s]"
     ]
    },
    {
     "name": "stdout",
     "output_type": "stream",
     "text": [
      "22848\n",
      "22848\n",
      "24990\n",
      "24998\n",
      "19320\n",
      "19352\n",
      "20958\n",
      "20966\n",
      "17472\n",
      "17472\n",
      "21210\n",
      "21234\n",
      "18522\n",
      "18546\n",
      "18522\n",
      "18546\n",
      "16632\n",
      "16664\n",
      "19866\n",
      "19890\n",
      "19614\n",
      "19622\n",
      "22554"
     ]
    },
    {
     "name": "stderr",
     "output_type": "stream",
     "text": [
      " 74%|██████████████████████████████████████████████████████████                    | 1833/2464 [00:32<00:11, 56.13it/s]"
     ]
    },
    {
     "name": "stdout",
     "output_type": "stream",
     "text": [
      "\n",
      "22578\n",
      "20412\n",
      "20428\n",
      "20160\n",
      "20160\n",
      "16128\n",
      "16128\n",
      "17472\n",
      "17472\n",
      "21210\n",
      "21234\n",
      "18270\n",
      "18278\n",
      "19068\n",
      "19084\n",
      "16632\n",
      "16664\n",
      "19614\n",
      "19622\n",
      "17178"
     ]
    },
    {
     "name": "stderr",
     "output_type": "stream",
     "text": [
      " 75%|██████████████████████████████████████████████████████████▍                   | 1845/2464 [00:32<00:11, 53.18it/s]"
     ]
    },
    {
     "name": "stdout",
     "output_type": "stream",
     "text": [
      "\n",
      "17202\n",
      "22848\n",
      "22848\n",
      "21504\n",
      "21504\n",
      "24990\n",
      "24998\n",
      "22008\n",
      "22040\n",
      "18522\n",
      "18546\n",
      "16632\n",
      "16664\n",
      "20958\n",
      "20966\n",
      "18816\n",
      "18816\n",
      "21504\n",
      "21504\n"
     ]
    },
    {
     "name": "stderr",
     "output_type": "stream",
     "text": [
      "\r",
      " 75%|██████████████████████████████████████████████████████████▋                   | 1852/2464 [00:32<00:10, 57.11it/s]"
     ]
    },
    {
     "name": "stdout",
     "output_type": "stream",
     "text": [
      "16632\n",
      "16664\n",
      "19866\n",
      "19890\n",
      "19866\n",
      "19890\n",
      "19320\n",
      "19352\n",
      "19320\n",
      "19352\n",
      "19614\n",
      "19622\n",
      "17976\n",
      "18008\n",
      "19866\n",
      "19890\n",
      "24990\n",
      "24998\n",
      "22008\n",
      "22040\n",
      "20664\n",
      "20696\n",
      "22302\n",
      "22310\n",
      "22008\n",
      "22040\n",
      "23898"
     ]
    },
    {
     "name": "stderr",
     "output_type": "stream",
     "text": [
      "\r",
      " 75%|██████████████████████████████████████████████████████████▊                   | 1859/2464 [00:32<00:10, 55.88it/s]"
     ]
    },
    {
     "name": "stdout",
     "output_type": "stream",
     "text": [
      "\n",
      "23922\n",
      "23898\n",
      "23922\n",
      "26586\n",
      "26610\n",
      "21756\n",
      "21772\n",
      "25788\n",
      "25804\n",
      "19866\n",
      "19890\n",
      "24696\n",
      "24728\n"
     ]
    },
    {
     "name": "stderr",
     "output_type": "stream",
     "text": [
      " 76%|███████████████████████████████████████████████████████████▏                  | 1871/2464 [00:33<00:12, 47.40it/s]"
     ]
    },
    {
     "name": "stdout",
     "output_type": "stream",
     "text": [
      "23898\n",
      "23922\n",
      "18270\n",
      "18278\n",
      "19866\n",
      "19890\n",
      "20958\n",
      "20966\n",
      "22008\n",
      "22040\n",
      "26040\n",
      "26072\n",
      "26880\n",
      "26880\n",
      "22302\n",
      "22310\n",
      "23100"
     ]
    },
    {
     "name": "stderr",
     "output_type": "stream",
     "text": [
      "\r",
      " 76%|███████████████████████████████████████████████████████████▍                  | 1878/2464 [00:33<00:11, 50.38it/s]"
     ]
    },
    {
     "name": "stdout",
     "output_type": "stream",
     "text": [
      "\n",
      "23116\n",
      "26040\n",
      "26072\n",
      "26040\n",
      "26072\n",
      "24990\n",
      "24998\n",
      "26040\n",
      "26072\n",
      "28224\n",
      "28224\n",
      "29274\n",
      "29298\n",
      "30618\n",
      "30642\n",
      "29274\n",
      "29298\n",
      "29022\n",
      "29030\n",
      "28728"
     ]
    },
    {
     "name": "stderr",
     "output_type": "stream",
     "text": [
      " 77%|███████████████████████████████████████████████████████████▊                  | 1889/2464 [00:33<00:12, 46.10it/s]"
     ]
    },
    {
     "name": "stdout",
     "output_type": "stream",
     "text": [
      "\n",
      "28760\n",
      "24696\n",
      "24728\n",
      "25788\n",
      "25804\n",
      "25788\n",
      "25804\n",
      "23646\n",
      "23654\n",
      "21210\n",
      "21234\n",
      "21210\n",
      "21234\n",
      "28728\n",
      "28760\n",
      "27384\n",
      "27416\n",
      "23646"
     ]
    },
    {
     "name": "stderr",
     "output_type": "stream",
     "text": [
      " 77%|████████████████████████████████████████████████████████████▏                 | 1900/2464 [00:33<00:11, 49.16it/s]"
     ]
    },
    {
     "name": "stdout",
     "output_type": "stream",
     "text": [
      "\n",
      "23654\n",
      "18816\n",
      "18816\n",
      "19614\n",
      "19622\n",
      "17976\n",
      "18008\n",
      "22302\n",
      "22310\n",
      "24696\n",
      "24728\n",
      "20664\n",
      "20696\n",
      "22008\n",
      "22040\n",
      "24444\n",
      "24460\n",
      "20958\n",
      "20966\n"
     ]
    },
    {
     "name": "stderr",
     "output_type": "stream",
     "text": [
      "\r",
      " 77%|████████████████████████████████████████████████████████████▎                 | 1906/2464 [00:33<00:12, 45.30it/s]"
     ]
    },
    {
     "name": "stdout",
     "output_type": "stream",
     "text": [
      "26334\n",
      "26342\n",
      "23898\n",
      "23922\n",
      "22848\n",
      "22848\n",
      "20958\n",
      "20966\n",
      "20664\n",
      "20696\n",
      "20664\n",
      "20696\n",
      "25788\n",
      "25804\n",
      "22302\n",
      "22310\n",
      "19068\n",
      "19084\n",
      "18522"
     ]
    },
    {
     "name": "stderr",
     "output_type": "stream",
     "text": [
      " 78%|████████████████████████████████████████████████████████████▋                 | 1919/2464 [00:33<00:10, 50.21it/s]"
     ]
    },
    {
     "name": "stdout",
     "output_type": "stream",
     "text": [
      "\n",
      "18546\n",
      "35448\n",
      "35480\n",
      "22848\n",
      "22848\n",
      "16380\n",
      "16396\n",
      "19320\n",
      "19352\n",
      "20958\n",
      "20966\n",
      "16632\n",
      "16664\n",
      "17178\n",
      "17202\n",
      "17976\n",
      "18008\n",
      "18270\n",
      "18278\n",
      "21210\n",
      "21234\n",
      "18522"
     ]
    },
    {
     "name": "stderr",
     "output_type": "stream",
     "text": [
      " 78%|█████████████████████████████████████████████████████████████▏                | 1932/2464 [00:34<00:09, 54.62it/s]"
     ]
    },
    {
     "name": "stdout",
     "output_type": "stream",
     "text": [
      "\n",
      "18546\n",
      "19866\n",
      "19890\n",
      "24444\n",
      "24460\n",
      "25788\n",
      "25804\n",
      "19068\n",
      "19084\n",
      "22848\n",
      "22848\n",
      "20412\n",
      "20428\n",
      "17472\n",
      "17472\n",
      "17976\n",
      "18008\n",
      "20664\n",
      "20696\n",
      "19614\n",
      "19622\n",
      "16926"
     ]
    },
    {
     "name": "stderr",
     "output_type": "stream",
     "text": [
      "\r",
      " 79%|█████████████████████████████████████████████████████████████▎                | 1938/2464 [00:34<00:09, 53.00it/s]"
     ]
    },
    {
     "name": "stdout",
     "output_type": "stream",
     "text": [
      "\n",
      "16934\n",
      "19614\n",
      "19622\n",
      "24444\n",
      "24460\n",
      "17178\n",
      "17202\n",
      "17472\n",
      "17472\n",
      "17976\n",
      "18008\n",
      "16926\n",
      "16934\n",
      "18270\n",
      "18278\n",
      "16926\n",
      "16934\n",
      "18816\n",
      "18816\n",
      "18270\n",
      "18278\n",
      "17178\n",
      "17202\n"
     ]
    },
    {
     "name": "stderr",
     "output_type": "stream",
     "text": [
      " 79%|█████████████████████████████████████████████████████████████▊                | 1952/2464 [00:34<00:09, 56.66it/s]"
     ]
    },
    {
     "name": "stdout",
     "output_type": "stream",
     "text": [
      "19866\n",
      "19890\n",
      "21504\n",
      "21504\n",
      "22554\n",
      "22578\n",
      "18522\n",
      "18546\n",
      "18816\n",
      "18816\n",
      "19320\n",
      "19352\n",
      "21504\n",
      "21504\n",
      "18522\n",
      "18546\n",
      "21756\n",
      "21772\n",
      "17976\n",
      "18008\n",
      "16380"
     ]
    },
    {
     "name": "stderr",
     "output_type": "stream",
     "text": [
      "\r",
      " 79%|█████████████████████████████████████████████████████████████▉                | 1958/2464 [00:34<00:09, 51.53it/s]"
     ]
    },
    {
     "name": "stdout",
     "output_type": "stream",
     "text": [
      "\n",
      "16396\n",
      "22008\n",
      "22040\n",
      "21756\n",
      "21772\n",
      "22554\n",
      "22578\n",
      "20958\n",
      "20966\n",
      "21756\n",
      "21772\n",
      "16128\n",
      "16128\n",
      "22008\n",
      "22040\n",
      "24192\n",
      "24192\n"
     ]
    },
    {
     "name": "stderr",
     "output_type": "stream",
     "text": [
      " 80%|██████████████████████████████████████████████████████████████▎               | 1969/2464 [00:34<00:10, 48.14it/s]"
     ]
    },
    {
     "name": "stdout",
     "output_type": "stream",
     "text": [
      "16926\n",
      "16934\n",
      "21504\n",
      "21504\n",
      "22008\n",
      "22040\n",
      "22554\n",
      "22578\n",
      "23100\n",
      "23116\n",
      "24990\n",
      "24998\n",
      "22008\n",
      "22040\n",
      "21504\n",
      "21504\n",
      "18522\n",
      "18546\n",
      "15834\n",
      "15858\n",
      "28728"
     ]
    },
    {
     "name": "stderr",
     "output_type": "stream",
     "text": [
      " 81%|██████████████████████████████████████████████████████████████▊               | 1984/2464 [00:35<00:08, 56.72it/s]"
     ]
    },
    {
     "name": "stdout",
     "output_type": "stream",
     "text": [
      "\n",
      "28760\n",
      "17472\n",
      "17472\n",
      "18522\n",
      "18546\n",
      "18270\n",
      "18278\n",
      "17976\n",
      "18008\n",
      "18270\n",
      "18278\n",
      "17724\n",
      "17740\n",
      "17724\n",
      "17740\n",
      "18270\n",
      "18278\n",
      "18522\n",
      "18546\n",
      "18816\n",
      "18816\n",
      "21504\n",
      "21504\n",
      "16926\n",
      "16934\n",
      "22554"
     ]
    },
    {
     "name": "stderr",
     "output_type": "stream",
     "text": [
      "\r",
      " 81%|███████████████████████████████████████████████████████████████               | 1991/2464 [00:35<00:08, 58.80it/s]"
     ]
    },
    {
     "name": "stdout",
     "output_type": "stream",
     "text": [
      "\n",
      "22578\n",
      "19866\n",
      "19890\n",
      "21210\n",
      "21234\n",
      "28224\n",
      "28224\n",
      "23898\n",
      "23922\n",
      "22008\n",
      "22040\n",
      "21504\n",
      "21504\n",
      "19320\n",
      "19352\n",
      "16632\n",
      "16664\n",
      "19866\n",
      "19890\n",
      "22302\n",
      "22310\n"
     ]
    },
    {
     "name": "stderr",
     "output_type": "stream",
     "text": [
      " 81%|███████████████████████████████████████████████████████████████▍              | 2005/2464 [00:35<00:07, 60.29it/s]"
     ]
    },
    {
     "name": "stdout",
     "output_type": "stream",
     "text": [
      "21756\n",
      "21772\n",
      "20160\n",
      "20160\n",
      "21504\n",
      "21504\n",
      "22302\n",
      "22310\n",
      "23100\n",
      "23116\n",
      "22554\n",
      "22578\n",
      "23898\n",
      "23922\n",
      "17178\n",
      "17202\n",
      "19320\n",
      "19352\n",
      "22008\n",
      "22040\n",
      "20664\n",
      "20696\n",
      "17976\n",
      "18008\n",
      "20160"
     ]
    },
    {
     "name": "stderr",
     "output_type": "stream",
     "text": [
      " 82%|███████████████████████████████████████████████████████████████▉              | 2019/2464 [00:35<00:07, 57.35it/s]"
     ]
    },
    {
     "name": "stdout",
     "output_type": "stream",
     "text": [
      "\n",
      "20160\n",
      "26880\n",
      "26880\n",
      "22554\n",
      "22578\n",
      "22008\n",
      "22040\n",
      "20412\n",
      "20428\n",
      "21504\n",
      "21504\n",
      "23100\n",
      "23116\n",
      "19068\n",
      "19084\n",
      "21210\n",
      "21234\n",
      "20160\n",
      "20160\n",
      "16926\n",
      "16934\n",
      "17472"
     ]
    },
    {
     "name": "stderr",
     "output_type": "stream",
     "text": [
      "\r",
      " 82%|████████████████████████████████████████████████████████████████▏             | 2028/2464 [00:35<00:07, 60.41it/s]"
     ]
    },
    {
     "name": "stdout",
     "output_type": "stream",
     "text": [
      "\n",
      "17472\n",
      "24696\n",
      "24728\n",
      "21756\n",
      "21772\n",
      "16380\n",
      "16396\n",
      "16632\n",
      "16664\n",
      "16380\n",
      "16396\n",
      "20958\n",
      "20966\n",
      "17976\n",
      "18008\n",
      "17472\n",
      "17472\n",
      "19068\n",
      "19084\n",
      "18270\n",
      "18278\n",
      "18816\n",
      "18816\n",
      "17976\n"
     ]
    },
    {
     "name": "stderr",
     "output_type": "stream",
     "text": [
      " 83%|████████████████████████████████████████████████████████████████▋             | 2042/2464 [00:36<00:07, 59.98it/s]"
     ]
    },
    {
     "name": "stdout",
     "output_type": "stream",
     "text": [
      "18008\n",
      "22848\n",
      "22848\n",
      "22554\n",
      "22578\n",
      "20160\n",
      "20160\n",
      "18816\n",
      "18816\n",
      "19614\n",
      "19622\n",
      "18816\n",
      "18816\n",
      "17472\n",
      "17472\n",
      "18270\n",
      "18278\n",
      "19320\n",
      "19352\n",
      "17976\n",
      "18008\n",
      "22848"
     ]
    },
    {
     "name": "stderr",
     "output_type": "stream",
     "text": [
      "\r",
      " 83%|████████████████████████████████████████████████████████████████▊             | 2049/2464 [00:36<00:06, 59.57it/s]"
     ]
    },
    {
     "name": "stdout",
     "output_type": "stream",
     "text": [
      "\n",
      "22848\n",
      "19614\n",
      "19622\n",
      "17976\n",
      "18008\n",
      "22554\n",
      "22578\n",
      "20412\n",
      "20428\n",
      "21756\n",
      "21772\n",
      "22302\n",
      "22310\n",
      "21210\n",
      "21234\n",
      "26334\n",
      "26342\n",
      "22302\n",
      "22310\n",
      "20412"
     ]
    },
    {
     "name": "stderr",
     "output_type": "stream",
     "text": [
      "\r",
      " 83%|█████████████████████████████████████████████████████████████████             | 2056/2464 [00:36<00:07, 56.41it/s]"
     ]
    },
    {
     "name": "stdout",
     "output_type": "stream",
     "text": [
      "\n",
      "20428\n",
      "20958\n",
      "20966\n",
      "23646\n",
      "23654\n",
      "23646\n",
      "23654\n",
      "23646\n",
      "23654\n",
      "24696\n",
      "24728\n",
      "21756"
     ]
    },
    {
     "name": "stderr",
     "output_type": "stream",
     "text": [
      " 84%|█████████████████████████████████████████████████████████████████▍            | 2067/2464 [00:36<00:08, 45.76it/s]"
     ]
    },
    {
     "name": "stdout",
     "output_type": "stream",
     "text": [
      "\n",
      "21772\n",
      "21210\n",
      "21234\n",
      "21756\n",
      "21772\n",
      "23646\n",
      "23654\n",
      "20412\n",
      "20428\n",
      "17472\n",
      "17472\n",
      "22008\n",
      "22040\n",
      "24990\n",
      "24998\n",
      "21504\n",
      "21504\n",
      "17976\n",
      "18008\n",
      "17976"
     ]
    },
    {
     "name": "stderr",
     "output_type": "stream",
     "text": [
      "\r",
      " 84%|█████████████████████████████████████████████████████████████████▋            | 2074/2464 [00:36<00:08, 47.47it/s]"
     ]
    },
    {
     "name": "stdout",
     "output_type": "stream",
     "text": [
      "\n",
      "18008\n",
      "20160\n",
      "20160\n",
      "30618\n",
      "30642\n",
      "23898\n",
      "23922\n",
      "24696\n",
      "24728\n",
      "19866\n",
      "19890\n",
      "19068\n",
      "19084\n",
      "30366\n",
      "30374\n",
      "27930\n",
      "27954\n",
      "25242\n",
      "25266\n"
     ]
    },
    {
     "name": "stderr",
     "output_type": "stream",
     "text": [
      " 85%|██████████████████████████████████████████████████████████████████            | 2086/2464 [00:37<00:07, 48.78it/s]"
     ]
    },
    {
     "name": "stdout",
     "output_type": "stream",
     "text": [
      "20160\n",
      "20160\n",
      "23646\n",
      "23654\n",
      "17472\n",
      "17472\n",
      "23352\n",
      "23384\n",
      "32508\n",
      "32524\n",
      "21210\n",
      "21234\n",
      "18270\n",
      "18278\n",
      "22008\n",
      "22040\n",
      "23646\n",
      "23654\n",
      "23898"
     ]
    },
    {
     "name": "stderr",
     "output_type": "stream",
     "text": [
      " 85%|██████████████████████████████████████████████████████████████████▎           | 2096/2464 [00:37<00:07, 46.51it/s]"
     ]
    },
    {
     "name": "stdout",
     "output_type": "stream",
     "text": [
      "\n",
      "23922\n",
      "21756\n",
      "21772\n",
      "19866\n",
      "19890\n",
      "22302\n",
      "22310\n",
      "23898\n",
      "23922\n",
      "27132\n",
      "27148\n",
      "24696\n",
      "24728\n",
      "22302\n",
      "22310\n",
      "23100"
     ]
    },
    {
     "name": "stderr",
     "output_type": "stream",
     "text": [
      " 85%|██████████████████████████████████████████████████████████████████▋           | 2106/2464 [00:37<00:07, 46.74it/s]"
     ]
    },
    {
     "name": "stdout",
     "output_type": "stream",
     "text": [
      "\n",
      "23116\n",
      "23646\n",
      "23654\n",
      "26880\n",
      "26880\n",
      "29820\n",
      "29836\n",
      "32256\n",
      "32256\n",
      "23100\n",
      "23116\n",
      "23898\n",
      "23922\n",
      "24990\n",
      "24998\n",
      "30912\n",
      "30912\n"
     ]
    },
    {
     "name": "stderr",
     "output_type": "stream",
     "text": [
      "\r",
      " 86%|██████████████████████████████████████████████████████████████████▊           | 2111/2464 [00:37<00:07, 47.38it/s]"
     ]
    },
    {
     "name": "stdout",
     "output_type": "stream",
     "text": [
      "24990\n",
      "24998\n",
      "26586\n",
      "26610\n",
      "23100\n",
      "23116\n",
      "24444\n",
      "24460\n",
      "28224\n",
      "28224\n",
      "23352\n",
      "23384\n",
      "16926\n",
      "16934\n",
      "22554\n",
      "22578\n",
      "21210\n",
      "21234\n",
      "22008\n",
      "22040\n",
      "20160"
     ]
    },
    {
     "name": "stderr",
     "output_type": "stream",
     "text": [
      " 86%|███████████████████████████████████████████████████████████████████▏          | 2124/2464 [00:37<00:06, 49.67it/s]"
     ]
    },
    {
     "name": "stdout",
     "output_type": "stream",
     "text": [
      "\n",
      "20160\n",
      "21756\n",
      "21772\n",
      "23100\n",
      "23116\n",
      "18270\n",
      "18278\n",
      "19614\n",
      "19622\n",
      "23898\n",
      "23922\n",
      "23100\n",
      "23116\n",
      "24696\n",
      "24728\n",
      "20664\n",
      "20696\n",
      "22008\n",
      "22040\n",
      "22848\n",
      "22848\n",
      "22554"
     ]
    },
    {
     "name": "stderr",
     "output_type": "stream",
     "text": [
      " 87%|███████████████████████████████████████████████████████████████████▌          | 2136/2464 [00:38<00:06, 51.47it/s]"
     ]
    },
    {
     "name": "stdout",
     "output_type": "stream",
     "text": [
      "\n",
      "22578\n",
      "21504\n",
      "21504\n",
      "18522\n",
      "18546\n",
      "19866\n",
      "19890\n",
      "20958\n",
      "20966\n",
      "22848\n",
      "22848\n",
      "22008\n",
      "22040\n",
      "19614\n",
      "19622\n",
      "19866\n",
      "19890\n"
     ]
    },
    {
     "name": "stderr",
     "output_type": "stream",
     "text": [
      "\r",
      " 87%|███████████████████████████████████████████████████████████████████▊          | 2142/2464 [00:38<00:06, 52.92it/s]"
     ]
    },
    {
     "name": "stdout",
     "output_type": "stream",
     "text": [
      "17724\n",
      "17740\n",
      "18270\n",
      "18278\n",
      "27930\n",
      "27954\n",
      "20160\n",
      "20160\n",
      "20958\n",
      "20966\n",
      "24192\n",
      "24192\n",
      "21756\n",
      "21772\n",
      "22302\n",
      "22310\n",
      "29820\n",
      "29836\n",
      "26334\n",
      "26342\n",
      "22008\n",
      "22040\n",
      "22008\n",
      "22040"
     ]
    },
    {
     "name": "stderr",
     "output_type": "stream",
     "text": [
      " 87%|████████████████████████████████████████████████████████████████████▏         | 2155/2464 [00:38<00:05, 51.64it/s]"
     ]
    },
    {
     "name": "stdout",
     "output_type": "stream",
     "text": [
      "\n",
      "20664\n",
      "20696\n",
      "19614\n",
      "19622\n",
      "27132\n",
      "27148\n",
      "20160\n",
      "20160\n",
      "17724\n",
      "17740\n",
      "17976\n",
      "18008\n",
      "20958\n",
      "20966\n",
      "23646\n",
      "23654\n"
     ]
    },
    {
     "name": "stderr",
     "output_type": "stream",
     "text": [
      "\r",
      " 88%|████████████████████████████████████████████████████████████████████▍         | 2161/2464 [00:38<00:06, 47.56it/s]"
     ]
    },
    {
     "name": "stdout",
     "output_type": "stream",
     "text": [
      "18522\n",
      "18546\n",
      "26040\n",
      "26072\n",
      "17724\n",
      "17740\n",
      "24990\n",
      "24998\n",
      "16632\n",
      "16664\n",
      "17976\n",
      "18008\n",
      "24192\n",
      "24192\n",
      "22008\n",
      "22040\n",
      "28224\n",
      "28224\n",
      "27384\n",
      "27416\n",
      "28476\n",
      "28492\n",
      "27678"
     ]
    },
    {
     "name": "stderr",
     "output_type": "stream",
     "text": [
      "\r",
      " 88%|████████████████████████████████████████████████████████████████████▋         | 2168/2464 [00:38<00:06, 46.93it/s]"
     ]
    },
    {
     "name": "stdout",
     "output_type": "stream",
     "text": [
      "\n",
      "27686\n",
      "25242\n",
      "25266\n",
      "22554\n",
      "22578\n",
      "18522\n",
      "18546\n",
      "23646\n",
      "23654\n",
      "29274\n",
      "29298\n"
     ]
    },
    {
     "name": "stderr",
     "output_type": "stream",
     "text": [
      " 89%|█████████████████████████████████████████████████████████████████████         | 2181/2464 [00:38<00:05, 50.34it/s]"
     ]
    },
    {
     "name": "stdout",
     "output_type": "stream",
     "text": [
      "20160\n",
      "20160\n",
      "21504\n",
      "21504\n",
      "17472\n",
      "17472\n",
      "22302\n",
      "22310\n",
      "22302\n",
      "22310\n",
      "19866\n",
      "19890\n",
      "14238\n",
      "14246\n",
      "14238\n",
      "14246\n",
      "17178\n",
      "17202\n",
      "30072\n",
      "30104\n",
      "15582\n",
      "15590\n",
      "20412\n",
      "20428\n",
      "15582\n",
      "15590\n",
      "18522"
     ]
    },
    {
     "name": "stderr",
     "output_type": "stream",
     "text": [
      " 89%|█████████████████████████████████████████████████████████████████████▍        | 2195/2464 [00:39<00:04, 57.72it/s]"
     ]
    },
    {
     "name": "stdout",
     "output_type": "stream",
     "text": [
      "\n",
      "18546\n",
      "18270\n",
      "18278\n",
      "20664\n",
      "20696\n",
      "22848\n",
      "22848\n",
      "19320\n",
      "19352\n",
      "20664\n",
      "20696\n",
      "13692\n",
      "13708\n",
      "17178\n",
      "17202\n",
      "18816\n",
      "18816\n",
      "15834\n",
      "15858\n",
      "19068\n",
      "19084\n",
      "14490\n",
      "14514\n",
      "16380\n",
      "16396\n",
      "20412\n",
      "20428\n",
      "17976"
     ]
    },
    {
     "name": "stderr",
     "output_type": "stream",
     "text": [
      " 90%|█████████████████████████████████████████████████████████████████████▉        | 2211/2464 [00:39<00:04, 59.86it/s]"
     ]
    },
    {
     "name": "stdout",
     "output_type": "stream",
     "text": [
      "\n",
      "18008\n",
      "18270\n",
      "18278\n",
      "17472\n",
      "17472\n",
      "17724\n",
      "17740\n",
      "20958\n",
      "20966\n",
      "19068\n",
      "19084\n",
      "18270\n",
      "18278\n",
      "20160\n",
      "20160\n",
      "20412\n",
      "20428\n",
      "21504\n",
      "21504\n",
      "23100\n",
      "23116\n",
      "22848"
     ]
    },
    {
     "name": "stderr",
     "output_type": "stream",
     "text": [
      "\r",
      " 90%|██████████████████████████████████████████████████████████████████████▏       | 2219/2464 [00:39<00:04, 60.34it/s]"
     ]
    },
    {
     "name": "stdout",
     "output_type": "stream",
     "text": [
      "\n",
      "22848\n",
      "20160\n",
      "20160\n",
      "20664\n",
      "20696\n",
      "16380\n",
      "16396\n",
      "16632\n",
      "16664\n",
      "19068\n",
      "19084\n",
      "20160\n",
      "20160\n",
      "17178\n",
      "17202\n",
      "16926\n",
      "16934\n",
      "20958\n",
      "20966\n"
     ]
    },
    {
     "name": "stderr",
     "output_type": "stream",
     "text": [
      " 91%|██████████████████████████████████████████████████████████████████████▋       | 2234/2464 [00:39<00:03, 62.86it/s]"
     ]
    },
    {
     "name": "stdout",
     "output_type": "stream",
     "text": [
      "21504\n",
      "21504\n",
      "18522\n",
      "18546\n",
      "20412\n",
      "20428\n",
      "16632\n",
      "16664\n",
      "16632\n",
      "16664\n",
      "16632\n",
      "16664\n",
      "18816\n",
      "18816\n",
      "18522\n",
      "18546\n",
      "17178\n",
      "17202\n",
      "17472\n",
      "17472\n",
      "18270\n",
      "18278\n",
      "24192\n",
      "24192\n",
      "24192\n",
      "24192\n",
      "19866\n",
      "19890\n",
      "20160"
     ]
    },
    {
     "name": "stderr",
     "output_type": "stream",
     "text": [
      "\r",
      " 91%|██████████████████████████████████████████████████████████████████████▉       | 2241/2464 [00:39<00:03, 63.30it/s]"
     ]
    },
    {
     "name": "stdout",
     "output_type": "stream",
     "text": [
      "\n",
      "20160\n",
      "19614\n",
      "19622\n",
      "21210\n",
      "21234\n",
      "19320\n",
      "19352\n",
      "19866\n",
      "19890\n",
      "15582\n",
      "15590\n",
      "18270\n",
      "18278\n",
      "20160\n",
      "20160\n",
      "21756\n",
      "21772\n",
      "17724\n",
      "17740\n",
      "24444\n",
      "24460\n",
      "17724\n",
      "17740\n",
      "18816"
     ]
    },
    {
     "name": "stderr",
     "output_type": "stream",
     "text": [
      " 92%|███████████████████████████████████████████████████████████████████████▍      | 2255/2464 [00:40<00:03, 63.96it/s]"
     ]
    },
    {
     "name": "stdout",
     "output_type": "stream",
     "text": [
      "\n",
      "18816\n",
      "18522\n",
      "18546\n",
      "19068\n",
      "19084\n",
      "19866\n",
      "19890\n",
      "18522\n",
      "18546\n",
      "19068\n",
      "19084\n",
      "21504\n",
      "21504\n",
      "23352\n",
      "23384\n",
      "22554\n",
      "22578\n",
      "24696\n",
      "24728\n",
      "27930\n",
      "27954\n",
      "17976\n",
      "18008\n",
      "27132"
     ]
    },
    {
     "name": "stderr",
     "output_type": "stream",
     "text": [
      " 92%|███████████████████████████████████████████████████████████████████████▊      | 2269/2464 [00:40<00:03, 59.92it/s]"
     ]
    },
    {
     "name": "stdout",
     "output_type": "stream",
     "text": [
      "\n",
      "27148\n",
      "21210\n",
      "21234\n",
      "22554\n",
      "22578\n",
      "20958\n",
      "20966\n",
      "17472\n",
      "17472\n",
      "22302\n",
      "22310\n",
      "27384\n",
      "27416\n",
      "16926\n",
      "16934\n",
      "15834\n",
      "15858\n",
      "16926\n",
      "16934\n",
      "19068"
     ]
    },
    {
     "name": "stderr",
     "output_type": "stream",
     "text": [
      "\r",
      " 92%|████████████████████████████████████████████████████████████████████████      | 2276/2464 [00:40<00:03, 55.62it/s]"
     ]
    },
    {
     "name": "stdout",
     "output_type": "stream",
     "text": [
      "\n",
      "19084\n",
      "16380\n",
      "16396\n",
      "16632\n",
      "16664\n",
      "17724\n",
      "17740\n",
      "16632\n",
      "16664\n",
      "17472\n",
      "17472\n",
      "15288\n",
      "15320\n",
      "23352\n",
      "23384\n",
      "22848\n",
      "22848\n",
      "18522"
     ]
    },
    {
     "name": "stderr",
     "output_type": "stream",
     "text": [
      "\r",
      " 93%|████████████████████████████████████████████████████████████████████████▏     | 2282/2464 [00:40<00:03, 46.88it/s]"
     ]
    },
    {
     "name": "stdout",
     "output_type": "stream",
     "text": [
      "\n",
      "18546\n",
      "17472\n",
      "17472\n",
      "19614\n",
      "19622\n",
      "20958\n",
      "20966\n",
      "16632\n",
      "16664\n",
      "16380\n",
      "16396\n",
      "17976\n",
      "18008\n",
      "21504\n",
      "21504\n",
      "20958\n",
      "20966\n"
     ]
    },
    {
     "name": "stderr",
     "output_type": "stream",
     "text": [
      " 93%|████████████████████████████████████████████████████████████████████████▌     | 2294/2464 [00:40<00:03, 49.03it/s]"
     ]
    },
    {
     "name": "stdout",
     "output_type": "stream",
     "text": [
      "19068\n",
      "19084\n",
      "19866\n",
      "19890\n",
      "18816\n",
      "18816\n",
      "19320\n",
      "19352\n",
      "21210\n",
      "21234\n",
      "20664\n",
      "20696\n",
      "19320\n",
      "19352\n",
      "20664\n",
      "20696\n",
      "23646\n",
      "23654\n",
      "22008\n",
      "22040\n",
      "22008"
     ]
    },
    {
     "name": "stderr",
     "output_type": "stream",
     "text": [
      "\r",
      " 93%|████████████████████████████████████████████████████████████████████████▊     | 2300/2464 [00:41<00:03, 42.41it/s]"
     ]
    },
    {
     "name": "stdout",
     "output_type": "stream",
     "text": [
      "\n",
      "22040\n",
      "24192\n",
      "24192\n",
      "29022\n",
      "29030\n",
      "21210\n",
      "21234\n",
      "22302\n",
      "22310\n",
      "18816\n",
      "18816\n",
      "19614\n",
      "19622\n",
      "21210\n",
      "21234\n",
      "20664"
     ]
    },
    {
     "name": "stderr",
     "output_type": "stream",
     "text": [
      " 94%|█████████████████████████████████████████████████████████████████████████▏    | 2312/2464 [00:41<00:03, 47.82it/s]"
     ]
    },
    {
     "name": "stdout",
     "output_type": "stream",
     "text": [
      "\n",
      "20696\n",
      "20412\n",
      "20428\n",
      "16632\n",
      "16664\n",
      "22008\n",
      "22040\n",
      "21756\n",
      "21772\n",
      "25536\n",
      "25536\n",
      "26040\n",
      "26072\n",
      "20412\n",
      "20428\n",
      "19614\n",
      "19622\n",
      "24990"
     ]
    },
    {
     "name": "stderr",
     "output_type": "stream",
     "text": [
      "\r",
      " 94%|█████████████████████████████████████████████████████████████████████████▍    | 2318/2464 [00:41<00:03, 43.61it/s]"
     ]
    },
    {
     "name": "stdout",
     "output_type": "stream",
     "text": [
      "\n",
      "24998\n",
      "24444\n",
      "24460\n",
      "23352\n",
      "23384\n",
      "19614\n",
      "19622\n",
      "28728\n",
      "28760\n",
      "24192\n",
      "24192\n",
      "28476\n",
      "28492\n",
      "29274\n",
      "29298\n",
      "22302"
     ]
    },
    {
     "name": "stderr",
     "output_type": "stream",
     "text": [
      " 94%|█████████████████████████████████████████████████████████████████████████▋    | 2328/2464 [00:41<00:03, 40.46it/s]"
     ]
    },
    {
     "name": "stdout",
     "output_type": "stream",
     "text": [
      "\n",
      "22310\n",
      "24696\n",
      "24728\n",
      "23898\n",
      "23922\n",
      "21504\n",
      "21504\n",
      "26880\n",
      "26880\n",
      "27678\n",
      "27686\n",
      "23646\n",
      "23654\n"
     ]
    },
    {
     "name": "stderr",
     "output_type": "stream",
     "text": [
      "\r",
      " 95%|█████████████████████████████████████████████████████████████████████████▊    | 2333/2464 [00:41<00:03, 41.15it/s]"
     ]
    },
    {
     "name": "stdout",
     "output_type": "stream",
     "text": [
      "17976\n",
      "18008\n",
      "22554\n",
      "22578\n",
      "26334\n",
      "26342\n",
      "20664\n",
      "20696\n",
      "16632\n",
      "16664\n",
      "16632\n",
      "16664\n",
      "16632\n",
      "16664\n",
      "19320\n",
      "19352\n",
      "19866\n",
      "19890\n",
      "20160\n",
      "20160\n",
      "19614\n",
      "19622\n"
     ]
    },
    {
     "name": "stderr",
     "output_type": "stream",
     "text": [
      " 95%|██████████████████████████████████████████████████████████████████████████▏   | 2345/2464 [00:42<00:02, 43.14it/s]"
     ]
    },
    {
     "name": "stdout",
     "output_type": "stream",
     "text": [
      "19866\n",
      "19890\n",
      "18270\n",
      "18278\n",
      "21210\n",
      "21234\n",
      "23898\n",
      "23922\n",
      "21504\n",
      "21504\n",
      "19614\n",
      "19622\n",
      "19614\n",
      "19622\n",
      "23352\n",
      "23384\n",
      "19320"
     ]
    },
    {
     "name": "stderr",
     "output_type": "stream",
     "text": [
      " 96%|██████████████████████████████████████████████████████████████████████████▌   | 2356/2464 [00:42<00:02, 47.76it/s]"
     ]
    },
    {
     "name": "stdout",
     "output_type": "stream",
     "text": [
      "\n",
      "19352\n",
      "19866\n",
      "19890\n",
      "16926\n",
      "16934\n",
      "17472\n",
      "17472\n",
      "22554\n",
      "22578\n",
      "21504\n",
      "21504\n",
      "21756\n",
      "21772\n",
      "20664\n",
      "20696\n",
      "16380\n",
      "16396\n",
      "17976\n",
      "18008\n",
      "17976\n",
      "18008\n",
      "17724"
     ]
    },
    {
     "name": "stderr",
     "output_type": "stream",
     "text": [
      "\r",
      " 96%|██████████████████████████████████████████████████████████████████████████▊   | 2362/2464 [00:42<00:02, 50.21it/s]"
     ]
    },
    {
     "name": "stdout",
     "output_type": "stream",
     "text": [
      "\n",
      "17740\n",
      "19068\n",
      "19084\n",
      "20160\n",
      "20160\n",
      "17724\n",
      "17740\n",
      "20160\n",
      "20160\n",
      "25242\n",
      "25266\n",
      "25242\n",
      "25266\n",
      "22008"
     ]
    },
    {
     "name": "stderr",
     "output_type": "stream",
     "text": [
      " 96%|███████████████████████████████████████████████████████████████████████████   | 2373/2464 [00:42<00:02, 42.19it/s]"
     ]
    },
    {
     "name": "stdout",
     "output_type": "stream",
     "text": [
      "\n",
      "22040\n",
      "21756\n",
      "21772\n",
      "20412\n",
      "20428\n",
      "22008\n",
      "22040\n",
      "20958\n",
      "20966\n",
      "23898\n",
      "23922\n",
      "24990\n",
      "24998\n",
      "19320\n",
      "19352\n"
     ]
    },
    {
     "name": "stderr",
     "output_type": "stream",
     "text": [
      " 97%|███████████████████████████████████████████████████████████████████████████▌  | 2386/2464 [00:42<00:01, 50.57it/s]"
     ]
    },
    {
     "name": "stdout",
     "output_type": "stream",
     "text": [
      "24990\n",
      "24998\n",
      "22008\n",
      "22040\n",
      "16926\n",
      "16934\n",
      "20160\n",
      "20160\n",
      "16926\n",
      "16934\n",
      "17178\n",
      "17202\n",
      "17472\n",
      "17472\n",
      "17976\n",
      "18008\n",
      "19320\n",
      "19352\n",
      "22554\n",
      "22578\n",
      "22008\n",
      "22040\n",
      "20160\n",
      "20160\n",
      "22302\n",
      "22310\n"
     ]
    },
    {
     "name": "stderr",
     "output_type": "stream",
     "text": [
      "\r",
      " 97%|███████████████████████████████████████████████████████████████████████████▋  | 2392/2464 [00:43<00:01, 52.20it/s]"
     ]
    },
    {
     "name": "stdout",
     "output_type": "stream",
     "text": [
      "23352\n",
      "23384\n",
      "21504\n",
      "21504\n",
      "26040\n",
      "26072\n",
      "22008\n",
      "22040\n",
      "22848\n",
      "22848\n",
      "20160\n",
      "20160\n",
      "17976\n",
      "18008\n",
      "20958\n",
      "20966\n",
      "20412\n",
      "20428\n",
      "19614\n"
     ]
    },
    {
     "name": "stderr",
     "output_type": "stream",
     "text": [
      " 98%|████████████████████████████████████████████████████████████████████████████▏ | 2405/2464 [00:43<00:01, 53.98it/s]"
     ]
    },
    {
     "name": "stdout",
     "output_type": "stream",
     "text": [
      "19622\n",
      "22302\n",
      "22310\n",
      "19068\n",
      "19084\n",
      "18816\n",
      "18816\n",
      "15582\n",
      "15590\n",
      "16926\n",
      "16934\n",
      "15582\n",
      "15590\n",
      "16128\n",
      "16128\n",
      "15288\n",
      "15320\n",
      "15582\n",
      "15590\n",
      "19320\n",
      "19352\n",
      "20412\n",
      "20428\n",
      "24192\n",
      "24192\n",
      "23100"
     ]
    },
    {
     "name": "stderr",
     "output_type": "stream",
     "text": [
      " 98%|████████████████████████████████████████████████████████████████████████████▌ | 2419/2464 [00:43<00:00, 58.91it/s]"
     ]
    },
    {
     "name": "stdout",
     "output_type": "stream",
     "text": [
      "\n",
      "23116\n",
      "23898\n",
      "23922\n",
      "20664\n",
      "20696\n",
      "19866\n",
      "19890\n",
      "17976\n",
      "18008\n",
      "20160\n",
      "20160\n",
      "20160\n",
      "20160\n",
      "17724\n",
      "17740\n",
      "17724\n",
      "17740\n",
      "20412\n",
      "20428\n",
      "21210\n",
      "21234\n",
      "18816\n"
     ]
    },
    {
     "name": "stderr",
     "output_type": "stream",
     "text": [
      "\r",
      " 98%|████████████████████████████████████████████████████████████████████████████▊ | 2427/2464 [00:43<00:00, 60.77it/s]"
     ]
    },
    {
     "name": "stdout",
     "output_type": "stream",
     "text": [
      "18816\n",
      "23352\n",
      "23384\n",
      "24696\n",
      "24728\n",
      "18522\n",
      "18546\n",
      "28476\n",
      "28492\n",
      "22848\n",
      "22848\n",
      "24444\n",
      "24460\n",
      "28476\n",
      "28492\n",
      "21210\n",
      "21234\n",
      "23352\n",
      "23384\n",
      "32256\n",
      "32256\n",
      "24444\n",
      "24460\n",
      "33600"
     ]
    },
    {
     "name": "stderr",
     "output_type": "stream",
     "text": [
      "\r",
      " 99%|█████████████████████████████████████████████████████████████████████████████ | 2434/2464 [00:43<00:00, 60.93it/s]"
     ]
    },
    {
     "name": "stdout",
     "output_type": "stream",
     "text": [
      "\n",
      "33600\n",
      "30618\n",
      "30642\n",
      "23100\n",
      "23116\n",
      "32256\n",
      "32256\n",
      "20664\n",
      "20696\n",
      "29022\n",
      "29030\n",
      "27678\n",
      "27686\n",
      "22302\n",
      "22310\n",
      "27930"
     ]
    },
    {
     "name": "stderr",
     "output_type": "stream",
     "text": [
      " 99%|█████████████████████████████████████████████████████████████████████████████▍| 2447/2464 [00:44<00:00, 52.76it/s]"
     ]
    },
    {
     "name": "stdout",
     "output_type": "stream",
     "text": [
      "\n",
      "27954\n",
      "27384\n",
      "27416\n",
      "17976\n",
      "18008\n",
      "17724\n",
      "17740\n",
      "16380\n",
      "16396\n",
      "16926\n",
      "16934\n",
      "17178\n",
      "17202\n",
      "17724\n",
      "17740\n",
      "18270\n",
      "18278\n",
      "18522\n",
      "18546\n",
      "16926\n",
      "16934\n",
      "22554"
     ]
    },
    {
     "name": "stderr",
     "output_type": "stream",
     "text": [
      "100%|█████████████████████████████████████████████████████████████████████████████▊| 2459/2464 [00:44<00:00, 52.86it/s]"
     ]
    },
    {
     "name": "stdout",
     "output_type": "stream",
     "text": [
      "\n",
      "22578\n",
      "23646\n",
      "23654\n",
      "24696\n",
      "24728\n",
      "19866\n",
      "19890\n",
      "19866\n",
      "19890\n",
      "18816\n",
      "18816\n",
      "18522\n",
      "18546\n",
      "17178\n",
      "17202\n",
      "18522\n",
      "18546\n",
      "16632"
     ]
    },
    {
     "name": "stderr",
     "output_type": "stream",
     "text": [
      "100%|██████████████████████████████████████████████████████████████████████████████| 2464/2464 [00:44<00:00, 55.63it/s]\n"
     ]
    },
    {
     "name": "stdout",
     "output_type": "stream",
     "text": [
      "\n",
      "16664\n",
      "16632\n",
      "16664\n",
      "22848\n",
      "22848\n",
      "20412\n",
      "20428\n"
     ]
    }
   ],
   "source": [
    "def convert_tidigit(PATH, sample_rate, hop_size, timeframes, freq_bins):\n",
    "    mat = scipy.io.loadmat(PATH)\n",
    "    samples = mat['train_samples']\n",
    "    audios = [None]*len(samples)\n",
    "    sample_rates = [sample_rate]*len(samples)\n",
    "    for index, item in tqdm(enumerate(samples)):\n",
    "        audios[index] = [value for sublist in item[0] for value in sublist]\n",
    "        #print(audios[index])\n",
    "    results = all_mfsc(audios, sample_rates, hop_size, timeframes, freq_bins)\n",
    "    return results\n",
    "\n",
    "\n",
    "results = convert_tidigit('TIDIGIT_train.mat', 20000, 20, 41, 40)"
   ]
  },
  {
   "cell_type": "code",
   "execution_count": null,
   "metadata": {},
   "outputs": [],
   "source": [
    "mat = scipy.io.loadmat('TIDIGIT_train.mat')"
   ]
  },
  {
   "cell_type": "code",
   "execution_count": 18,
   "metadata": {},
   "outputs": [
    {
     "name": "stdout",
     "output_type": "stream",
     "text": [
      "15582\n",
      "15590\n"
     ]
    },
    {
     "data": {
      "text/plain": [
       "(40.5, -0.5)"
      ]
     },
     "execution_count": 18,
     "metadata": {},
     "output_type": "execute_result"
    },
    {
     "data": {
      "image/png": "[encoded data removed]",
      "text/plain": [
       "<Figure size 360x360 with 1 Axes>"
      ]
     },
     "metadata": {
      "needs_background": "light"
     },
     "output_type": "display_data"
    }
   ],
   "source": [
    "interesting = mat['train_samples'][24,0]\n",
    "audio = [item for sublist in interesting for item in sublist]\n",
    "new_result = one_mfsc(audio, 20000, None, 41, 40).T #Hop size is unnecessary but kept for security.\n",
    "sample_rate=20000\n",
    "\n",
    "\n",
    "#testing = 1\n",
    "plt.figure(figsize=(5,5))\n",
    "plt.plot(np.linspace(0, len(audio) / sample_rate, num=len(audio)), audio)\n",
    "plt.imshow(new_result, aspect='auto', origin='lower');\n",
    "ax = plt.gca()\n",
    "ax.set_ylim(ax.get_ylim()[::-1])"
   ]
  },
  {
   "cell_type": "code",
   "execution_count": 31,
   "metadata": {},
   "outputs": [
    {
     "name": "stdout",
     "output_type": "stream",
     "text": [
      "41\n"
     ]
    }
   ],
   "source": [
    "print(len(results[0][0]))"
   ]
  },
  {
   "cell_type": "code",
   "execution_count": null,
   "metadata": {},
   "outputs": [],
   "source": []
  }
 ],
 "metadata": {
  "kernelspec": {
   "display_name": "Python 3",
   "language": "python",
   "name": "python3"
  },
  "language_info": {
   "codemirror_mode": {
    "name": "ipython",
    "version": 3
   },
   "file_extension": ".py",
   "mimetype": "text/x-python",
   "name": "python",
   "nbconvert_exporter": "python",
   "pygments_lexer": "ipython3",
   "version": "3.7.2"
  }
 },
 "nbformat": 4,
 "nbformat_minor": 2
}
