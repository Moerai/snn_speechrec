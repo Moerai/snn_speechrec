{
 "cells": [
  {
   "cell_type": "code",
   "execution_count": 43,
   "metadata": {},
   "outputs": [],
   "source": [
    "import librosa\n",
    "import numpy as np\n",
    "from scipy.signal import get_window\n",
    "import scipy.fftpack as fft\n",
    "import matplotlib.pyplot as plt\n",
    "\n",
    "import scipy.io\n"
   ]
  },
  {
   "cell_type": "code",
   "execution_count": 28,
   "metadata": {},
   "outputs": [],
   "source": [
    "def wav_to_list(wav_files):\n",
    "    audio_list = np.zeros(len(wav_files))\n",
    "    for ind,filename in enumerate(wav_files):\n",
    "        audio, sample_rate = librosa.load(filename)\n",
    "        audio_list[ind] = audio\n",
    "    return audio_list\n",
    "\n",
    "audio, sample_rate = librosa.load('sa1.wav')"
   ]
  },
  {
   "cell_type": "code",
   "execution_count": 29,
   "metadata": {},
   "outputs": [
    {
     "name": "stdout",
     "output_type": "stream",
     "text": [
      "[ 2.9922800e-05 -2.2494769e-05 -1.7128708e-06 ... -2.3044803e-04\n",
      " -2.0874187e-04  0.0000000e+00]\n",
      "22050\n",
      "64493\n"
     ]
    }
   ],
   "source": [
    "print(audio)\n",
    "print(sample_rate)\n",
    "print(len(audio))"
   ]
  },
  {
   "cell_type": "code",
   "execution_count": 40,
   "metadata": {},
   "outputs": [
    {
     "name": "stdout",
     "output_type": "stream",
     "text": [
      "(40, 41)\n"
     ]
    }
   ],
   "source": [
    "def all_mfsc(sound_list, s_rate_list):\n",
    "    n_sounds = len(sound_list)\n",
    "    all_results = n_sounds*[None]\n",
    "    for i in range(n_sounds):\n",
    "        all_results[i] = one_mfsc(sound_list[i],s_rate_list[i], 30)\n",
    "    return all_results\n",
    "\n",
    "def one_mfsc(sound, s_rate, hop_size):\n",
    "    sound = sound / np.max(np.abs(sound)) #First, we normalize\n",
    "    frames, fft_len = create_frames(sound, 41, s_rate, hop_size)\n",
    "    window = get_window(\"hann\", fft_len, fftbins=True)\n",
    "    windowed = frames * window\n",
    "    windowedT = windowed.T\n",
    "    fft_sound= np.empty((int(1 + fft_len // 2), windowedT.shape[1]), dtype=np.complex64, order='F')\n",
    "\n",
    "    for n in range(fft_sound.shape[1]):\n",
    "        fft_sound[:, n] = fft.fft(windowedT[:, n], axis=0)[:fft_sound.shape[0]]\n",
    "\n",
    "    fft_soundT = fft_sound.T\n",
    "    sound_strength = np.square(np.abs(fft_soundT))\n",
    "\n",
    "    lowf = 0\n",
    "    highf = s_rate / 2\n",
    "    n_samples = 40\n",
    "    \n",
    "    filt_places, m_freqs = get_filt_places(lowf, highf, n_samples, fft_len, s_rate)\n",
    "    filters = make_filters(filt_places, fft_len)\n",
    "    \n",
    "    e_val = 2.0 / (m_freqs[2:n_samples+2] - m_freqs[:n_samples])\n",
    "    filters *= e_val[:, np.newaxis]\n",
    "    \n",
    "    sound_filt = np.dot(filters, np.transpose(sound_strength))\n",
    "    sound_log = 10.0 * np.log10(sound_filt)\n",
    "    \n",
    "    return sound_log\n",
    "\n",
    "def create_frames(sound, n_frames, s_rate, hop_size):\n",
    "    frame_len = int(s_rate*hop_size/1000)\n",
    "    FFT_size = -(n_frames-1)*frame_len+len(sound)\n",
    "    sound = np.pad(sound, int(FFT_size / 2), mode='reflect')\n",
    "    frames = np.zeros((n_frames, FFT_size))\n",
    "    for n in range(n_frames):\n",
    "        frames[n] = sound[n*frame_len:n*frame_len+FFT_size]\n",
    "    return frames, FFT_size\n",
    "\n",
    "def f_mel(f): #Converts F to Mel\n",
    "    return 2595.0 * np.log10(1.0 + f / 700.0)\n",
    "\n",
    "def mel_f(mel): #Converts Mel to F\n",
    "    return 700.0 * (10.0**(mel / 2595.0) - 1.0)\n",
    "\n",
    "def get_filt_places(lowF, highF, n_samples, fft_len, s_rate):\n",
    "    lowf_mel = f_mel(lowF)\n",
    "    highf_mel = f_mel(highF)\n",
    "    \n",
    "    mel = np.linspace(lowf_mel, highf_mel, num=n_samples+2)\n",
    "    f = mel_f(mel)\n",
    "    \n",
    "    return np.floor((fft_len + 1) / s_rate * f).astype(int), f\n",
    "\n",
    "def make_filters(filt_places, fft_len):\n",
    "    filters = np.zeros((len(filt_places)-2,int(fft_len/2+1)))\n",
    "    \n",
    "    for n in range(len(filt_places)-2):\n",
    "        filters[n, filt_places[n] : filt_places[n + 1]] = np.linspace(0, 1, filt_places[n + 1] - filt_places[n])\n",
    "        filters[n, filt_places[n + 1] : filt_places[n + 2]] = np.linspace(1, 0, filt_places[n + 2] - filt_places[n + 1])\n",
    "    \n",
    "    return filters\n",
    "    \n",
    "    \n",
    "\n",
    "result = one_mfsc(audio, sample_rate, 10)\n",
    "print(result.shape)"
   ]
  },
  {
   "cell_type": "code",
   "execution_count": 9,
   "metadata": {},
   "outputs": [
    {
     "name": "stdout",
     "output_type": "stream",
     "text": [
      "[4 3 2 1 2 3 4 5 6 7 8 9 8 7 6]\n"
     ]
    }
   ],
   "source": [
    "print(np.pad(np.array([1,2,3,4,5,6,7,8,9]),3,mode='reflect'))"
   ]
  },
  {
   "cell_type": "code",
   "execution_count": 44,
   "metadata": {},
   "outputs": [],
   "source": [
    "mat = scipy.io.loadmat('TIDIGIT_train.mat')\n"
   ]
  },
  {
   "cell_type": "code",
   "execution_count": 59,
   "metadata": {},
   "outputs": [
    {
     "name": "stdout",
     "output_type": "stream",
     "text": [
      "[[0.00024414]\n",
      " [0.00030518]\n",
      " [0.00030518]\n",
      " ...\n",
      " [0.00042725]\n",
      " [0.00042725]\n",
      " [0.00030518]]\n"
     ]
    },
    {
     "data": {
      "image/png": "[encoded data removed]",
      "text/plain": [
       "<Figure size 1080x360 with 1 Axes>"
      ]
     },
     "metadata": {
      "needs_background": "light"
     },
     "output_type": "display_data"
    }
   ],
   "source": [
    "interesting = mat['train_samples'][0,0]\n",
    "print(interesting)\n",
    "new = [item for sublist in interesting for item in sublist]\n",
    "new_result = one_mfsc(new, 20000, 10).T\n",
    "\n",
    "\n",
    "#testing = 1\n",
    "plt.figure(figsize=(15,5))\n",
    "plt.plot(np.linspace(0, len(audio) / sample_rate, num=len(audio)), audio)\n",
    "plt.imshow(new_result, aspect='auto', origin='lower');"
   ]
  },
  {
   "cell_type": "code",
   "execution_count": null,
   "metadata": {},
   "outputs": [],
   "source": []
  }
 ],
 "metadata": {
  "kernelspec": {
   "display_name": "Python 3",
   "language": "python",
   "name": "python3"
  },
  "language_info": {
   "codemirror_mode": {
    "name": "ipython",
    "version": 3
   },
   "file_extension": ".py",
   "mimetype": "text/x-python",
   "name": "python",
   "nbconvert_exporter": "python",
   "pygments_lexer": "ipython3",
   "version": "3.7.2"
  }
 },
 "nbformat": 4,
 "nbformat_minor": 2
}
