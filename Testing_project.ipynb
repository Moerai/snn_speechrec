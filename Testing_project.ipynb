{
 "cells": [
  {
   "cell_type": "code",
   "execution_count": 1,
   "metadata": {},
   "outputs": [],
   "source": [
    "import librosa\n",
    "import numpy as np\n",
    "from scipy.signal import get_window\n",
    "import scipy.fftpack as fft\n",
    "import matplotlib.pyplot as plt\n",
    "\n",
    "import scipy.io\n",
    "from tqdm import tqdm\n",
    "from python_speech_features import logfbank\n"
   ]
  },
  {
   "cell_type": "code",
   "execution_count": 28,
   "metadata": {},
   "outputs": [],
   "source": [
    "def wav_to_list(wav_files):\n",
    "    audio_list = np.zeros(len(wav_files))\n",
    "    for ind,filename in enumerate(wav_files):\n",
    "        audio, sample_rate = librosa.load(filename)\n",
    "        audio_list[ind] = audio\n",
    "    return audio_list\n",
    "\n",
    "audio, sample_rate = librosa.load('sa1.wav')"
   ]
  },
  {
   "cell_type": "code",
   "execution_count": 29,
   "metadata": {},
   "outputs": [
    {
     "name": "stdout",
     "output_type": "stream",
     "text": [
      "[ 2.9922800e-05 -2.2494769e-05 -1.7128708e-06 ... -2.3044803e-04\n",
      " -2.0874187e-04  0.0000000e+00]\n",
      "22050\n",
      "64493\n"
     ]
    }
   ],
   "source": [
    "print(audio)\n",
    "print(sample_rate)\n",
    "print(len(audio))"
   ]
  },
  {
   "cell_type": "code",
   "execution_count": 2,
   "metadata": {},
   "outputs": [],
   "source": [
    "def all_mfsc(sound_list, s_rate_list, hop_size, timeframes, freq_bins):\n",
    "    n_sounds = len(sound_list)\n",
    "    all_results = n_sounds*[None]\n",
    "    for i in tqdm(range(n_sounds)):\n",
    "        #all_results[i] = one_mfsc(sound_list[i],s_rate_list[i], hop_size, timeframes, freq_bins)\n",
    "        duration = len(sound_list[i])/s_rate_list[i]\n",
    "        winstep = duration/timeframes\n",
    "        all_results[i] = logfbank(sound_list[i] , samplerate = s_rate_list[i] , \n",
    "                                  winlen = winstep, winstep = winstep, nfilt=freq_bins, nfft=1024)\n",
    "    return all_results\n",
    "\n",
    "#I have kept the below function as a back-up. It is a custom mfsc version.\n",
    "def one_mfsc(sound, s_rate, hop_size, timeframes, freq_bins):\n",
    "    sound = sound / np.max(np.abs(sound)) #First, we normalize\n",
    "    frames, fft_len = create_frames(sound, timeframes, s_rate, hop_size)\n",
    "    window = get_window(\"hann\", fft_len, fftbins=True)\n",
    "    windowed = frames * window\n",
    "    windowedT = windowed.T\n",
    "    fft_sound= np.empty((int(1 + fft_len // 2), windowedT.shape[1]), dtype=np.complex64, order='F')\n",
    "\n",
    "    for n in range(fft_sound.shape[1]):\n",
    "        fft_sound[:, n] = fft.fft(windowedT[:, n], axis=0)[:fft_sound.shape[0]]\n",
    "\n",
    "    fft_soundT = fft_sound.T\n",
    "    sound_strength = np.square(np.abs(fft_soundT))\n",
    "\n",
    "    lowf = 0\n",
    "    highf = s_rate / 2\n",
    "    \n",
    "    filt_places, m_freqs = get_filt_places(lowf, highf, freq_bins, fft_len, s_rate)\n",
    "    filters = make_filters(filt_places, fft_len)\n",
    "    \n",
    "    e_val = 2.0 / (m_freqs[2:freq_bins+2] - m_freqs[:freq_bins])\n",
    "    filters *= e_val[:, np.newaxis]\n",
    "    \n",
    "    sound_filt = np.dot(filters, np.transpose(sound_strength))\n",
    "    sound_log = 10.0 * np.log10(sound_filt)\n",
    "    \n",
    "    return sound_log\n",
    "\n",
    "def create_frames(sound, n_frames, s_rate, hop_size):\n",
    "    #frame_len = int(s_rate*hop_size/1000)\n",
    "    frame_len = int(len(sound)/(n_frames-1))\n",
    "    #FFT_size = -(n_frames-1)*frame_len+len(sound)\n",
    "    FFT_size = frame_len + (len(sound)/(n_frames-1))#This is the new calculated version\n",
    "    FFT_size = int(FFT_size/2)*2\n",
    "    sound = np.pad(sound, int(FFT_size / 2), mode='reflect')\n",
    "    frames = np.zeros((n_frames, FFT_size))\n",
    "    #print(40*frame_len+FFT_size)\n",
    "    #print(len(sound))\n",
    "    for n in range(n_frames):\n",
    "        #hahaha = \n",
    "        #print(len(hahaha))\n",
    "        #print(n*frame_len)\n",
    "        frames[n] = sound[n*frame_len:n*frame_len+FFT_size]\n",
    "        \n",
    "    return frames, FFT_size\n",
    "\n",
    "def f_mel(f): #Converts F to Mel\n",
    "    return 2595.0 * np.log10(1.0 + f / 700.0)\n",
    "\n",
    "def mel_f(mel): #Converts Mel to F\n",
    "    return 700.0 * (10.0**(mel / 2595.0) - 1.0)\n",
    "\n",
    "def get_filt_places(lowF, highF, n_samples, fft_len, s_rate):\n",
    "    lowf_mel = f_mel(lowF)\n",
    "    highf_mel = f_mel(highF)\n",
    "    \n",
    "    mel = np.linspace(lowf_mel, highf_mel, num=n_samples+2)\n",
    "    f = mel_f(mel)\n",
    "    \n",
    "    return np.floor((fft_len + 1) / s_rate * f).astype(int), f\n",
    "\n",
    "def make_filters(filt_places, fft_len):\n",
    "    filters = np.zeros((len(filt_places)-2,int(fft_len/2+1)))\n",
    "    \n",
    "    for n in range(len(filt_places)-2):\n",
    "        filters[n, filt_places[n] : filt_places[n + 1]] = np.linspace(0, 1, filt_places[n + 1] - filt_places[n])\n",
    "        filters[n, filt_places[n + 1] : filt_places[n + 2]] = np.linspace(1, 0, filt_places[n + 2] - filt_places[n + 1])\n",
    "    \n",
    "    return filters\n",
    "    \n",
    "    \n",
    "\n",
    "#result = one_mfsc(audio, sample_rate, 10)\n",
    "#print(result.shape)"
   ]
  },
  {
   "cell_type": "code",
   "execution_count": 3,
   "metadata": {},
   "outputs": [
    {
     "name": "stderr",
     "output_type": "stream",
     "text": [
      "2464it [00:00, 494060.86it/s]\n",
      "100%|█████████████████████████████████████████████████████████████████████████████| 2464/2464 [00:06<00:00, 373.63it/s]\n"
     ]
    }
   ],
   "source": [
    "def convert_tidigit(PATH, sample_rate, hop_size, timeframes, freq_bins):\n",
    "    mat = scipy.io.loadmat(PATH)\n",
    "    samples = mat['train_samples']\n",
    "    audios = [None]*len(samples)\n",
    "    sample_rates = [sample_rate]*len(samples)\n",
    "    #for index, item in tqdm(enumerate(samples)):\n",
    "     #   audios[index] = [value for sublist in item[0] for value in sublist]\n",
    "        #print(audios[index])\n",
    "    for index,item in tqdm(enumerate(samples)):\n",
    "        audios[index] = item[0]\n",
    "    results = all_mfsc(audios, sample_rates, hop_size, timeframes, freq_bins)\n",
    "    return results\n",
    "\n",
    "\n",
    "results = convert_tidigit('TIDIGIT_train.mat', 20000, 20, 41, 40)"
   ]
  },
  {
   "cell_type": "code",
   "execution_count": 7,
   "metadata": {},
   "outputs": [],
   "source": [
    "mat = scipy.io.loadmat('TIDIGIT_train.mat')"
   ]
  },
  {
   "cell_type": "code",
   "execution_count": 11,
   "metadata": {},
   "outputs": [
    {
     "name": "stdout",
     "output_type": "stream",
     "text": [
      "0.896\n",
      "0.021853658536585368\n"
     ]
    },
    {
     "data": {
      "text/plain": [
       "(40.5, -0.5)"
      ]
     },
     "execution_count": 11,
     "metadata": {},
     "output_type": "execute_result"
    },
    {
     "data": {
      "image/png": "[encoded data removed]",
      "text/plain": [
       "<Figure size 360x360 with 1 Axes>"
      ]
     },
     "metadata": {
      "needs_background": "light"
     },
     "output_type": "display_data"
    }
   ],
   "source": [
    "#new_result = logfbank()\n",
    "#new_result = one_mfsc(audio, 20000, None, 41, 40).T #Hop size is unnecessary but kept for security.\n",
    "#sample_rate=20000\n",
    "\n",
    "interesting = mat['train_samples'][1,0]\n",
    "audio = [item for sublist in interesting for item in sublist]\n",
    "\n",
    "samplerate = 20000\n",
    "duration = len(interesting)/samplerate\n",
    "print(duration)\n",
    "number_of_rows = 41\n",
    "winstep = duration/number_of_rows\n",
    "print(winstep)\n",
    "new_result = logfbank(interesting , samplerate = samplerate , winlen = 2 * winstep, winstep = winstep, nfilt=40, nfft=1024)\n",
    "\n",
    "\n",
    "#testing = 1\n",
    "plt.figure(figsize=(5,5))\n",
    "plt.plot(np.linspace(0, len(interesting) / samplerate, num=len(interesting)), audio)\n",
    "plt.imshow(new_result, aspect='auto', origin='lower');\n",
    "ax = plt.gca()\n",
    "ax.set_ylim(ax.get_ylim()[::-1])"
   ]
  },
  {
   "cell_type": "code",
   "execution_count": 31,
   "metadata": {},
   "outputs": [
    {
     "name": "stdout",
     "output_type": "stream",
     "text": [
      "41\n"
     ]
    }
   ],
   "source": [
    "print(len(results[0][0]))"
   ]
  },
  {
   "cell_type": "code",
   "execution_count": 10,
   "metadata": {},
   "outputs": [
    {
     "data": {
      "text/plain": [
       "(40.5, -0.5)"
      ]
     },
     "execution_count": 10,
     "metadata": {},
     "output_type": "execute_result"
    },
    {
     "data": {
      "image/png": "[encoded data removed]",
      "text/plain": [
       "<Figure size 360x360 with 1 Axes>"
      ]
     },
     "metadata": {
      "needs_background": "light"
     },
     "output_type": "display_data"
    }
   ],
   "source": [
    "#This is to inspect images from the results.\n",
    "\n",
    "plt.figure(figsize=(5,5))\n",
    "plt.plot(np.linspace(0, len(audio) / samplerate, num=len(audio)), audio)\n",
    "plt.imshow(results[0], aspect='auto', origin='lower');\n",
    "ax = plt.gca()\n",
    "ax.set_ylim(ax.get_ylim()[::-1])"
   ]
  },
  {
   "cell_type": "code",
   "execution_count": null,
   "metadata": {},
   "outputs": [],
   "source": []
  }
 ],
 "metadata": {
  "kernelspec": {
   "display_name": "Python 3",
   "language": "python",
   "name": "python3"
  },
  "language_info": {
   "codemirror_mode": {
    "name": "ipython",
    "version": 3
   },
   "file_extension": ".py",
   "mimetype": "text/x-python",
   "name": "python",
   "nbconvert_exporter": "python",
   "pygments_lexer": "ipython3",
   "version": "3.7.2"
  }
 },
 "nbformat": 4,
 "nbformat_minor": 2
}
